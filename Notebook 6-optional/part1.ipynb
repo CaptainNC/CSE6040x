{
 "cells": [
  {
   "cell_type": "markdown",
   "metadata": {
    "deletable": false,
    "editable": false,
    "nbgrader": {
     "grade": false,
     "grade_id": "cell-c075516d369362c8",
     "locked": true,
     "schema_version": 1,
     "solution": false
    }
   },
   "source": [
    "## Part 1: Tools to process HTML\n",
    "\n",
    "In Part 0, you downloaded real web pages and manipulated them using \"conventional\" string processing tools, like [`str`]() functions or [regular expressions]().\n",
    "\n",
    "However, web pages are stored in HTML ([hypertext markup language]()), which is a structured format. As such, it makes sense to use specialized tools to understand and process its structure. That's the subject of this notebook."
   ]
  },
  {
   "cell_type": "markdown",
   "metadata": {
    "deletable": false,
    "editable": false,
    "nbgrader": {
     "grade": false,
     "grade_id": "cell-43e7e5ddf6ea837d",
     "locked": true,
     "schema_version": 1,
     "solution": false
    }
   },
   "source": [
    "## Parsing HTML: The Beautiful Soup module\n",
    "\n",
    "One such package to help process HTML is [Beautiful Soup](https://www.crummy.com/software/BeautifulSoup/). The following is a quick tutorial on how to use it.\n",
    "\n",
    "Any HTML document may be modeled as an object in computer science known as a [tree](https://en.wikipedia.org/wiki/Tree_(data_structure)):\n",
    "\n",
    "![HTML as a tree](./html-slide.png)\n",
    "\n",
    "There are different ways to define trees, but for our purposes, the following will be sufficient."
   ]
  },
  {
   "cell_type": "markdown",
   "metadata": {
    "deletable": false,
    "editable": false,
    "nbgrader": {
     "grade": false,
     "grade_id": "cell-c52d068f57ed8895",
     "locked": true,
     "schema_version": 1,
     "solution": false
    }
   },
   "source": [
    "Consider a tree is a collection of _nodes_, which are the labeled boxes in the figure, and _edges_, which are the line segments connecting nodes, with the following special structure.\n",
    "\n",
    "* The node at the top is called the _root_. Here, the root is labeled `html` and abstractly represents the entire HTML document.\n",
    "* Regard each edge as always \"pointing\" from the node at its top end to the node at its bottom end. For any edge, the node at its top end is the _parent_ and the node at the bottom end is a _child_. Like real families, a parent can be a child. For example, the node labeled `head` is the child of `html` and the parent of `meta`, `title`, and `style`.\n",
    "* The _descendant_ of a node $x$ is any node $y$ for which there is a path from $x$ going down to $y$. For example, the node labeled `6x span` is a descendant of the node `body`. All nodes are descendants of the root.\n",
    "* Any node with _no_ descendants is a _leaf_.\n",
    "* Any node that is neither a root nor a leaf is an _internal node_.\n",
    "* There are no _cycles_. A cycle would be a loop. For instance, if you were to add an edge between the two lower rightmost nodes labeled, `strong` and `strong`, that would create a loop and the object would no longer be a tree.\n",
    "\n",
    "> For whatever reason, [computer scientists usually view trees upside down](https://www.quora.com/Why-are-trees-in-computer-science-generally-drawn-upside-down-from-how-trees-are-in-real-life), with the \"root\" at the top and the \"leaves\" at the bottom."
   ]
  },
  {
   "cell_type": "markdown",
   "metadata": {
    "deletable": false,
    "editable": false,
    "nbgrader": {
     "grade": false,
     "grade_id": "cell-f50c89e450930a0f",
     "locked": true,
     "schema_version": 1,
     "solution": false
    }
   },
   "source": [
    "The Beautiful Soup package gives you a data structure for traversing this tree. For instance, consider an HTML file with the contents below, shown both as code and pictorially."
   ]
  },
  {
   "cell_type": "code",
   "execution_count": 1,
   "metadata": {
    "deletable": false,
    "editable": false,
    "nbgrader": {
     "grade": false,
     "grade_id": "cell-3e6d9fce3f852df9",
     "locked": true,
     "schema_version": 1,
     "solution": false
    }
   },
   "outputs": [
    {
     "name": "stdout",
     "output_type": "stream",
     "text": [
      "\n",
      "<html>\n",
      "  <body>\n",
      "    <p>First paragraph.</p>\n",
      "    <p>Second paragraph, which links to the <a href=\"http://www.gatech.edu\">Georgia Tech website</a>.</p>\n",
      "    <p>Third paragraph.</p>\n",
      "  </body>\n",
      "</html>\n",
      "\n"
     ]
    }
   ],
   "source": [
    "some_page = \"\"\"\n",
    "<html>\n",
    "  <body>\n",
    "    <p>First paragraph.</p>\n",
    "    <p>Second paragraph, which links to the <a href=\"http://www.gatech.edu\">Georgia Tech website</a>.</p>\n",
    "    <p>Third paragraph.</p>\n",
    "  </body>\n",
    "</html>\n",
    "\"\"\"\n",
    "print(some_page)"
   ]
  },
  {
   "cell_type": "markdown",
   "metadata": {
    "deletable": false,
    "editable": false,
    "nbgrader": {
     "grade": false,
     "grade_id": "cell-b10719fa97510cdf",
     "locked": true,
     "schema_version": 1,
     "solution": false
    }
   },
   "source": [
    "![Two visual representations of `some_page`](./html-viz.png)"
   ]
  },
  {
   "cell_type": "markdown",
   "metadata": {
    "deletable": false,
    "editable": false,
    "nbgrader": {
     "grade": false,
     "grade_id": "cell-2ffdaae04974caa4",
     "locked": true,
     "schema_version": 1,
     "solution": false
    }
   },
   "source": [
    "**Exercise 0.** Besides HTML files, what else have we seen in this class that could be represented by a tree? Briefly and roughly explain what and how."
   ]
  },
  {
   "cell_type": "markdown",
   "metadata": {
    "nbgrader": {
     "grade": true,
     "grade_id": "ex3",
     "locked": false,
     "points": 0,
     "schema_version": 1,
     "solution": true
    }
   },
   "source": [
    "**Answer.** One thing that has a natural tree representation is a Python program! For example, can you draw the following program as a tree?\n",
    "\n",
    "```python\n",
    "import re\n",
    "\n",
    "def scan_lines(text, pattern):\n",
    "    matches = []\n",
    "    for line in text.split('\\n'):\n",
    "        if re.search(pattern, text) is not None:\n",
    "            matches.append(True)\n",
    "        else:\n",
    "            matches.append(False)\n",
    "    return matches\n",
    "```"
   ]
  },
  {
   "cell_type": "markdown",
   "metadata": {
    "deletable": false,
    "editable": false,
    "nbgrader": {
     "grade": false,
     "grade_id": "cell-f7d60ea487aa01e5",
     "locked": true,
     "schema_version": 1,
     "solution": false
    }
   },
   "source": [
    "## Using Beautiful Soup\n",
    "\n",
    "Here is how you might use Beautiful Soup to inspect the structure of `some_page`.\n",
    "\n",
    "Let's start by taking the contents of the page above (`some_page`) and asking Beautiful Soup to process it. Let's store the result in object named `soup`, and then explore its contents:"
   ]
  },
  {
   "cell_type": "code",
   "execution_count": 2,
   "metadata": {
    "deletable": false,
    "editable": false,
    "nbgrader": {
     "grade": false,
     "grade_id": "cell-3e24c3ba0a76eef7",
     "locked": true,
     "schema_version": 1,
     "solution": false
    }
   },
   "outputs": [
    {
     "name": "stdout",
     "output_type": "stream",
     "text": [
      "1. soup == <html>\n",
      "<body>\n",
      "<p>First paragraph.</p>\n",
      "<p>Second paragraph, which links to the <a href=\"http://www.gatech.edu\">Georgia Tech website</a>.</p>\n",
      "<p>Third paragraph.</p>\n",
      "</body>\n",
      "</html>\n",
      "\n",
      "\n",
      "2. soup.html == <html>\n",
      "<body>\n",
      "<p>First paragraph.</p>\n",
      "<p>Second paragraph, which links to the <a href=\"http://www.gatech.edu\">Georgia Tech website</a>.</p>\n",
      "<p>Third paragraph.</p>\n",
      "</body>\n",
      "</html>\n",
      "\n",
      "3. soup.html.body == <body>\n",
      "<p>First paragraph.</p>\n",
      "<p>Second paragraph, which links to the <a href=\"http://www.gatech.edu\">Georgia Tech website</a>.</p>\n",
      "<p>Third paragraph.</p>\n",
      "</body>\n",
      "\n",
      "4. soup.html.body.p == <p>First paragraph.</p>\n",
      "\n",
      "5. soup.html.body.contents == <class 'list'> :: ['\\n', <p>First paragraph.</p>, '\\n', <p>Second paragraph, which links to the <a href=\"http://www.gatech.edu\">Georgia Tech website</a>.</p>, '\\n', <p>Third paragraph.</p>, '\\n']\n"
     ]
    }
   ],
   "source": [
    "from bs4 import BeautifulSoup\n",
    "\n",
    "soup = BeautifulSoup(some_page, \"lxml\")\n",
    "\n",
    "print('1. soup ==', soup) # Print the HTML contents\n",
    "print('\\n2. soup.html ==', soup.html) # Root of the tree\n",
    "print('\\n3. soup.html.body ==', soup.html.body) # A child tag\n",
    "print('\\n4. soup.html.body.p ==', soup.html.body.p) # Another child tag\n",
    "print('\\n5. soup.html.body.contents ==', type(soup.html.body.contents), '::', soup.html.body.contents)"
   ]
  },
  {
   "cell_type": "markdown",
   "metadata": {
    "deletable": false,
    "editable": false,
    "nbgrader": {
     "grade": false,
     "grade_id": "cell-b878deab62a98518",
     "locked": true,
     "schema_version": 1,
     "solution": false
    }
   },
   "source": [
    "Observe that the `.` notation allows us to reference HTML tags---that is, the stuff enclosed in angle brackets in the original HTML, e.g., `<html> ... </html>`, `<body> ... </body>`---as they are nested. But in the case of the `<body> ... </body>` tag, there are multiple subtags. Evidently, `soup.html.body.contents` contains these, as a list, which we know how to manipulate."
   ]
  },
  {
   "cell_type": "code",
   "execution_count": 3,
   "metadata": {},
   "outputs": [
    {
     "name": "stdout",
     "output_type": "stream",
     "text": [
      "[   0] <class 'bs4.element.NavigableString'> \n",
      "\t==> '\n",
      "'\n",
      "[   1] <class 'bs4.element.Tag'> \n",
      "\t==> '<p>First paragraph.</p>'\n",
      "[   2] <class 'bs4.element.NavigableString'> \n",
      "\t==> '\n",
      "'\n",
      "[   3] <class 'bs4.element.Tag'> \n",
      "\t==> '<p>Second paragraph, which links to the <a href=\"http://www.gatech.edu\">Georgia Tech website</a>.</p>'\n",
      "[   4] <class 'bs4.element.NavigableString'> \n",
      "\t==> '\n",
      "'\n",
      "[   5] <class 'bs4.element.Tag'> \n",
      "\t==> '<p>Third paragraph.</p>'\n",
      "[   6] <class 'bs4.element.NavigableString'> \n",
      "\t==> '\n",
      "'\n",
      "['Second paragraph, which links to the ', <a href=\"http://www.gatech.edu\">Georgia Tech website</a>, '.']\n"
     ]
    }
   ],
   "source": [
    "# Enumerate all tags within the <body> ... </body> tag:\n",
    "for i, elem in enumerate (soup.html.body.contents):\n",
    "    print (\"[{:4d}]\".format (i), type (elem), '\\n\\t==>', \"'{}'\".format (elem))\n",
    "\n",
    "# Reference one of these, element 3:\n",
    "elem3 = soup.html.body.contents[3]\n",
    "print(elem3.contents)"
   ]
  },
  {
   "cell_type": "markdown",
   "metadata": {
    "deletable": false,
    "editable": false,
    "nbgrader": {
     "grade": false,
     "grade_id": "cell-334edd5f6b7fac7b",
     "locked": true,
     "schema_version": 1,
     "solution": false
    }
   },
   "source": [
    "**Exercise 1.** Write a statement that navigates to the tag representing the GT website link. Store this resulting tag object in a variable called `link`."
   ]
  },
  {
   "cell_type": "code",
   "execution_count": 4,
   "metadata": {
    "nbgrader": {
     "grade": false,
     "grade_id": "ex5",
     "locked": false,
     "schema_version": 1,
     "solution": true
    }
   },
   "outputs": [
    {
     "name": "stdout",
     "output_type": "stream",
     "text": [
      "<a href=\"http://www.gatech.edu\">Georgia Tech website</a>\n"
     ]
    }
   ],
   "source": [
    "###\n",
    "### YOUR CODE HERE\n",
    "###\n",
    "link = soup.html.body.contents[3].contents[1]\n",
    "print(link)"
   ]
  },
  {
   "cell_type": "code",
   "execution_count": 5,
   "metadata": {
    "deletable": false,
    "editable": false,
    "nbgrader": {
     "grade": true,
     "grade_id": "ex5_test",
     "locked": true,
     "points": 0,
     "schema_version": 1,
     "solution": false
    }
   },
   "outputs": [
    {
     "name": "stdout",
     "output_type": "stream",
     "text": [
      "\n",
      "(Passed!)\n"
     ]
    }
   ],
   "source": [
    "# Checks your link. Can you understand what it is doing?\n",
    "import bs4\n",
    "assert type(link) is bs4.element.Tag\n",
    "assert link.name == 'a'\n",
    "assert link['href'] == 'http://www.gatech.edu'\n",
    "assert link.contents == ['Georgia Tech website']\n",
    "\n",
    "print(\"\\n(Passed!)\")"
   ]
  },
  {
   "cell_type": "markdown",
   "metadata": {
    "deletable": false,
    "editable": false,
    "nbgrader": {
     "grade": false,
     "grade_id": "cell-4b2368e9947f3054",
     "locked": true,
     "schema_version": 1,
     "solution": false
    }
   },
   "source": [
    "### Other navigation tools\n",
    "\n",
    "This lab includes a static copy of the Yelp! results for a search of \"universities\" in ATL. Let's start by downloading this file."
   ]
  },
  {
   "cell_type": "code",
   "execution_count": 6,
   "metadata": {
    "deletable": false,
    "editable": false,
    "nbgrader": {
     "grade": false,
     "grade_id": "cell-6c5218127e70c014",
     "locked": true,
     "schema_version": 1,
     "solution": false
    },
    "scrolled": true
   },
   "outputs": [
    {
     "name": "stdout",
     "output_type": "stream",
     "text": [
      "'yelp_unies_atl--20200126--1347--prettified.html' is ready!\n"
     ]
    }
   ],
   "source": [
    "# Run me: Code to download sample HTML file\n",
    "\n",
    "import requests\n",
    "import os\n",
    "import hashlib\n",
    "\n",
    "yelp_htm = 'yelp_unies_atl--20200126--1347--prettified.html'\n",
    "yelp_htm_checksum = 'd94da820bd8def4c1b240d272a3b673c'\n",
    "\n",
    "if os.path.exists('.voc'):\n",
    "    data_url = 'https://cse6040.gatech.edu/datasets/yelp-example-uni/{}'.format(yelp_htm)\n",
    "else:\n",
    "    data_url = 'https://github.com/cse6040/labs-fa17/raw/master/datasets/{}'.format(yelp_htm)\n",
    "\n",
    "if not os.path.exists(yelp_htm):\n",
    "    print(\"Downloading: {} ...\".format(data_url))\n",
    "    r = requests.get(data_url)\n",
    "    with open(yelp_htm, 'w', encoding=r.encoding) as f:\n",
    "        f.write(r.text)\n",
    "\n",
    "with open(yelp_htm, 'r') as f:\n",
    "    yelp_html = f.read().encode(encoding='utf-8')\n",
    "    checksum = hashlib.md5(yelp_html).hexdigest()\n",
    "    assert checksum == yelp_htm_checksum, \"Downloaded file has incorrect checksum!\"\n",
    "    \n",
    "print(\"'{}' is ready!\".format(yelp_htm))"
   ]
  },
  {
   "cell_type": "markdown",
   "metadata": {
    "deletable": false,
    "editable": false,
    "nbgrader": {
     "grade": false,
     "locked": true,
     "solution": false
    }
   },
   "source": [
    "If the above ran without errorr, you can view this file by clicking this link: [./yelp_unies_atl--20200126--1347--prettified.html](./yelp_unies_atl--20200126--1347--prettified.html)."
   ]
  },
  {
   "cell_type": "markdown",
   "metadata": {
    "deletable": false,
    "editable": false,
    "nbgrader": {
     "grade": false,
     "grade_id": "cell-68bbb05561a090b8",
     "locked": true,
     "schema_version": 1,
     "solution": false
    }
   },
   "source": [
    "Next, inspect and run this code, which prints the top (number one) result."
   ]
  },
  {
   "cell_type": "code",
   "execution_count": 13,
   "metadata": {},
   "outputs": [
    {
     "name": "stdout",
     "output_type": "stream",
     "text": [
      "The number 1 ATL university according to Yelp!:\n",
      "Georgia Tech\n"
     ]
    }
   ],
   "source": [
    "uni_html_text = open (yelp_htm, 'r').read()\n",
    "uni_soup = BeautifulSoup(uni_html_text, \"lxml\")\n",
    "\n",
    "print(\"The number 1 ATL university according to Yelp!:\")\n",
    "\n",
    "uni_1_span = uni_soup.html.body \\\n",
    "                     .contents[11].contents[7].contents[3].contents[1].contents[1].contents[1] \\\n",
    "                     .contents[1].contents[3].contents[1].contents[9].contents[1].contents[1].contents[1] \\\n",
    "                     .contents[3].contents[1].contents[1].contents[1].contents[1].contents[1].contents[1] \\\n",
    "                     .contents[1].contents[1].contents[1]\n",
    "uni_1 = uni_1_span.contents[3]\n",
    "    \n",
    "print(uni_1.text.strip())"
   ]
  },
  {
   "cell_type": "markdown",
   "metadata": {
    "deletable": false,
    "editable": false,
    "nbgrader": {
     "grade": false,
     "grade_id": "cell-cfa7415b772a15ad",
     "locked": true,
     "schema_version": 1,
     "solution": false
    }
   },
   "source": [
    "We hope it is self-evident that the above method to navigate to a particular tag or element is not terribly productive or robust, particularly if there are small modifications to the HTML.\n",
    "\n",
    "Here is an alternative. Inspect the raw HTML and observe that every search result appears in a \"span tag\" of the form,\n",
    "```html\n",
    "    <span class=\"lemon--span__373c0__3997G text__373c0__2Kxyz text-color--black-regular__373c0__2vGEn text-align--left__373c0__2XGa- text-weight--bold__373c0__1elNz text-size--inherit__373c0__2fB3p\">\n",
    "        1\n",
    "        <!-- -->\n",
    "        .\n",
    "        <a class=\"lemon--a__373c0__IEZFH link__373c0__1G70M link-color--inherit__373c0__3dzpk link-size--inherit__373c0__1VFlE\" href=\"/biz/georgia-tech-atlanta-4?osq=universities\" name=\"Georgia Tech\" rel=\"\" target=\"\">\n",
    "            Georgia Tech\n",
    "        </a>\n",
    "    </span>\n",
    "```\n",
    "This tag has a specific class attribute (`lemon--span__373c0__3997G ...`), and for non-sponsored results, a rank (`1 <!-- --> .` indicating the first, or top-ranked, result). Beautiful Soup gives us a way to search for specific tags."
   ]
  },
  {
   "cell_type": "code",
   "execution_count": 14,
   "metadata": {},
   "outputs": [
    {
     "name": "stdout",
     "output_type": "stream",
     "text": [
      "Found 11 results.\n",
      "\n",
      "*** First three results: ***\n",
      "\n",
      "=== RESULT 0 ===\n",
      "\n",
      "<span class=\"lemon--span__373c0__3997G text__373c0__2Kxyz text-color--black-regular__373c0__2vGEn text-align--left__373c0__2XGa- text-weight--bold__373c0__1elNz text-size--inherit__373c0__2fB3p\">\n",
      "<a class=\"lemon--a__373c0__IEZFH link__373c0__1G70M link-color--inherit__373c0__3dzpk link-size--inherit__373c0__1VFlE\" href=\"/adredir?ad_business_id=LGCyifo9tzQZJ4A_pDgsqQ&amp;campaign_id=Wkhf1uvtgY4N5HOV71fIZQ&amp;click_origin=search_results&amp;placement=above_search&amp;redirect_url=https%3A%2F%2Fwww.yelp.com%2Fbiz%2Finteractive-college-of-technology-chamblee-campus-chamblee-15&amp;request_id=77cd448205e2d62a&amp;signature=fa133eb3eefb2b9471c6d594dca4f6ac7a0d184be49e9c088bd0b1bc90c56dfa&amp;slot=0\" name=\"Interactive College Of Technology - Chamblee Campus\" rel=\"\" target=\"\">\n",
      "                          Interactive College Of Technology - Chamblee Campus\n",
      "                         </a>\n",
      "</span>\n",
      "\n",
      "=== RESULT 1 ===\n",
      "\n",
      "<span class=\"lemon--span__373c0__3997G text__373c0__2Kxyz text-color--black-regular__373c0__2vGEn text-align--left__373c0__2XGa- text-weight--bold__373c0__1elNz text-size--inherit__373c0__2fB3p\">\n",
      "                         1\n",
      "                         <!-- -->\n",
      "                         .\n",
      "                         <a class=\"lemon--a__373c0__IEZFH link__373c0__1G70M link-color--inherit__373c0__3dzpk link-size--inherit__373c0__1VFlE\" href=\"/biz/georgia-tech-atlanta-4?osq=universities\" name=\"Georgia Tech\" rel=\"\" target=\"\">\n",
      "                          Georgia Tech\n",
      "                         </a>\n",
      "</span>\n",
      "\n",
      "=== RESULT 2 ===\n",
      "\n",
      "<span class=\"lemon--span__373c0__3997G text__373c0__2Kxyz text-color--black-regular__373c0__2vGEn text-align--left__373c0__2XGa- text-weight--bold__373c0__1elNz text-size--inherit__373c0__2fB3p\">\n",
      "                         2\n",
      "                         <!-- -->\n",
      "                         .\n",
      "                         <a class=\"lemon--a__373c0__IEZFH link__373c0__1G70M link-color--inherit__373c0__3dzpk link-size--inherit__373c0__1VFlE\" href=\"/biz/spelman-college-atlanta?osq=universities\" name=\"Spelman College\" rel=\"\" target=\"\">\n",
      "                          Spelman College\n",
      "                         </a>\n",
      "</span>\n"
     ]
    }
   ],
   "source": [
    "target_class_value = 'lemon--span__373c0__3997G text__373c0__2Kxyz text-color--black-regular__373c0__2vGEn text-align--left__373c0__2XGa- text-weight--bold__373c0__1elNz text-size--inherit__373c0__2fB3p'\n",
    "all_search_results = uni_soup.find_all(attrs={'class', target_class_value})\n",
    "print(\"Found\", len(all_search_results), \"results.\")\n",
    "print(\"\\n*** First three results: ***\")\n",
    "for k, result in enumerate(all_search_results[:3]):\n",
    "    print(f\"\\n=== RESULT {k} ===\\n\")\n",
    "    print(result)"
   ]
  },
  {
   "cell_type": "markdown",
   "metadata": {
    "deletable": false,
    "editable": false,
    "nbgrader": {
     "grade": false,
     "grade_id": "cell-d26c59c6b89e51b8",
     "locked": true,
     "schema_version": 1,
     "solution": false
    }
   },
   "source": [
    "**Exercise 2.** Based on the above, write a function that, given a Yelp! search results page such as `uni_soup` above, returns the name of result whose rank is `k`, an **integer**. For example, when `k == 1`, it should return, `\"Georgia Tech\"`; when `k == 2`, it should return, `\"Spelman College\"`; when `k == 3`, it should return `\"Emory Continuing Education\"`; and so on."
   ]
  },
  {
   "cell_type": "code",
   "execution_count": 15,
   "metadata": {
    "nbgrader": {
     "grade": false,
     "grade_id": "ex6",
     "locked": false,
     "schema_version": 1,
     "solution": true
    }
   },
   "outputs": [
    {
     "ename": "IndexError",
     "evalue": "list index out of range",
     "output_type": "error",
     "traceback": [
      "\u001b[0;31m---------------------------------------------------------------------------\u001b[0m",
      "\u001b[0;31mIndexError\u001b[0m                                Traceback (most recent call last)",
      "\u001b[0;32m<ipython-input-15-a7744b1aef8c>\u001b[0m in \u001b[0;36m<module>\u001b[0;34m()\u001b[0m\n\u001b[1;32m      9\u001b[0m     \u001b[0;32mreturn\u001b[0m \u001b[0mtop_biz\u001b[0m\u001b[0;34m.\u001b[0m\u001b[0mcontents\u001b[0m\u001b[0;34m[\u001b[0m\u001b[0;36m1\u001b[0m\u001b[0;34m]\u001b[0m\u001b[0;34m.\u001b[0m\u001b[0mcontents\u001b[0m\u001b[0;34m[\u001b[0m\u001b[0;36m0\u001b[0m\u001b[0;34m]\u001b[0m\u001b[0;34m.\u001b[0m\u001b[0mcontents\u001b[0m\u001b[0;34m[\u001b[0m\u001b[0;36m0\u001b[0m\u001b[0;34m]\u001b[0m\u001b[0;34m\u001b[0m\u001b[0m\n\u001b[1;32m     10\u001b[0m \u001b[0;31m# Demo:\u001b[0m\u001b[0;34m\u001b[0m\u001b[0;34m\u001b[0m\u001b[0m\n\u001b[0;32m---> 11\u001b[0;31m \u001b[0mprint\u001b[0m\u001b[0;34m(\u001b[0m\u001b[0mget_yelp_result\u001b[0m\u001b[0;34m(\u001b[0m\u001b[0muni_soup\u001b[0m\u001b[0;34m,\u001b[0m \u001b[0;36m1\u001b[0m\u001b[0;34m)\u001b[0m\u001b[0;34m)\u001b[0m\u001b[0;34m\u001b[0m\u001b[0m\n\u001b[0m",
      "\u001b[0;32m<ipython-input-15-a7744b1aef8c>\u001b[0m in \u001b[0;36mget_yelp_result\u001b[0;34m(soup, k)\u001b[0m\n\u001b[1;32m      4\u001b[0m     \"\"\"\n\u001b[1;32m      5\u001b[0m     \u001b[0mbizzes\u001b[0m \u001b[0;34m=\u001b[0m \u001b[0msoup\u001b[0m\u001b[0;34m.\u001b[0m\u001b[0mfind_all\u001b[0m \u001b[0;34m(\u001b[0m\u001b[0mattrs\u001b[0m\u001b[0;34m=\u001b[0m\u001b[0;34m{\u001b[0m\u001b[0;34m'class'\u001b[0m\u001b[0;34m:\u001b[0m \u001b[0;34m'indexed-biz-name'\u001b[0m\u001b[0;34m}\u001b[0m\u001b[0;34m)\u001b[0m\u001b[0;34m\u001b[0m\u001b[0m\n\u001b[0;32m----> 6\u001b[0;31m     \u001b[0mtop_biz\u001b[0m \u001b[0;34m=\u001b[0m \u001b[0mbizzes\u001b[0m\u001b[0;34m[\u001b[0m\u001b[0;36m0\u001b[0m\u001b[0;34m]\u001b[0m\u001b[0;34m\u001b[0m\u001b[0m\n\u001b[0m\u001b[1;32m      7\u001b[0m     \u001b[0mrank\u001b[0m \u001b[0;34m=\u001b[0m \u001b[0mtop_biz\u001b[0m\u001b[0;34m.\u001b[0m\u001b[0mcontents\u001b[0m\u001b[0;34m[\u001b[0m\u001b[0;36m0\u001b[0m\u001b[0;34m]\u001b[0m\u001b[0;34m.\u001b[0m\u001b[0mstrip\u001b[0m \u001b[0;34m(\u001b[0m\u001b[0;34m)\u001b[0m\u001b[0;34m\u001b[0m\u001b[0m\n\u001b[1;32m      8\u001b[0m     \u001b[0;32massert\u001b[0m \u001b[0mrank\u001b[0m \u001b[0;34m==\u001b[0m \u001b[0;34m'1.'\u001b[0m\u001b[0;34m\u001b[0m\u001b[0m\n",
      "\u001b[0;31mIndexError\u001b[0m: list index out of range"
     ]
    }
   ],
   "source": [
    "def get_yelp_result(soup, k):\n",
    "    \"\"\"Given a Yelp! search result as a Beautiful Soup page,\n",
    "    returns the name of business whose rank is `k`.\n",
    "    \"\"\"\n",
    "    bizzes = soup.find_all (attrs={'class': 'indexed-biz-name'})\n",
    "    top_biz = bizzes[0]\n",
    "    rank = top_biz.contents[0].strip ()\n",
    "    assert rank == '1.'\n",
    "    return top_biz.contents[1].contents[0].contents[0]\n",
    "# Demo:\n",
    "print(get_yelp_result(uni_soup, 1))"
   ]
  },
  {
   "cell_type": "code",
   "execution_count": 12,
   "metadata": {
    "deletable": false,
    "editable": false,
    "nbgrader": {
     "grade": true,
     "grade_id": "ex6_test",
     "locked": true,
     "points": 0,
     "schema_version": 1,
     "solution": false
    }
   },
   "outputs": [
    {
     "ename": "IndexError",
     "evalue": "list index out of range",
     "output_type": "error",
     "traceback": [
      "\u001b[0;31m---------------------------------------------------------------------------\u001b[0m",
      "\u001b[0;31mIndexError\u001b[0m                                Traceback (most recent call last)",
      "\u001b[0;32m<ipython-input-12-253a5539f9e1>\u001b[0m in \u001b[0;36m<module>\u001b[0;34m()\u001b[0m\n\u001b[1;32m      2\u001b[0m          \"Oglethorpe University\"]\n\u001b[1;32m      3\u001b[0m \u001b[0;32mfor\u001b[0m \u001b[0mk\u001b[0m \u001b[0;32min\u001b[0m \u001b[0mrange\u001b[0m\u001b[0;34m(\u001b[0m\u001b[0;36m1\u001b[0m\u001b[0;34m,\u001b[0m \u001b[0mlen\u001b[0m\u001b[0;34m(\u001b[0m\u001b[0mtop_5\u001b[0m\u001b[0;34m)\u001b[0m\u001b[0;34m+\u001b[0m\u001b[0;36m1\u001b[0m\u001b[0;34m)\u001b[0m\u001b[0;34m:\u001b[0m\u001b[0;34m\u001b[0m\u001b[0m\n\u001b[0;32m----> 4\u001b[0;31m     \u001b[0myour_result\u001b[0m \u001b[0;34m=\u001b[0m \u001b[0mget_yelp_result\u001b[0m\u001b[0;34m(\u001b[0m\u001b[0muni_soup\u001b[0m\u001b[0;34m,\u001b[0m \u001b[0mk\u001b[0m\u001b[0;34m)\u001b[0m\u001b[0;34m\u001b[0m\u001b[0m\n\u001b[0m\u001b[1;32m      5\u001b[0m     \u001b[0mtrue_result\u001b[0m \u001b[0;34m=\u001b[0m \u001b[0mtop_5\u001b[0m\u001b[0;34m[\u001b[0m\u001b[0mk\u001b[0m\u001b[0;34m-\u001b[0m\u001b[0;36m1\u001b[0m\u001b[0;34m]\u001b[0m\u001b[0;34m\u001b[0m\u001b[0m\n\u001b[1;32m      6\u001b[0m     \u001b[0;32massert\u001b[0m \u001b[0myour_result\u001b[0m \u001b[0;34m==\u001b[0m \u001b[0mtrue_result\u001b[0m\u001b[0;34m,\u001b[0m            \u001b[0;34mf\"Your rank-{k} result ('{your_result}') does not match the expected value ('{true_result}').\"\u001b[0m\u001b[0;34m\u001b[0m\u001b[0m\n",
      "\u001b[0;32m<ipython-input-11-a7744b1aef8c>\u001b[0m in \u001b[0;36mget_yelp_result\u001b[0;34m(soup, k)\u001b[0m\n\u001b[1;32m      4\u001b[0m     \"\"\"\n\u001b[1;32m      5\u001b[0m     \u001b[0mbizzes\u001b[0m \u001b[0;34m=\u001b[0m \u001b[0msoup\u001b[0m\u001b[0;34m.\u001b[0m\u001b[0mfind_all\u001b[0m \u001b[0;34m(\u001b[0m\u001b[0mattrs\u001b[0m\u001b[0;34m=\u001b[0m\u001b[0;34m{\u001b[0m\u001b[0;34m'class'\u001b[0m\u001b[0;34m:\u001b[0m \u001b[0;34m'indexed-biz-name'\u001b[0m\u001b[0;34m}\u001b[0m\u001b[0;34m)\u001b[0m\u001b[0;34m\u001b[0m\u001b[0m\n\u001b[0;32m----> 6\u001b[0;31m     \u001b[0mtop_biz\u001b[0m \u001b[0;34m=\u001b[0m \u001b[0mbizzes\u001b[0m\u001b[0;34m[\u001b[0m\u001b[0;36m0\u001b[0m\u001b[0;34m]\u001b[0m\u001b[0;34m\u001b[0m\u001b[0m\n\u001b[0m\u001b[1;32m      7\u001b[0m     \u001b[0mrank\u001b[0m \u001b[0;34m=\u001b[0m \u001b[0mtop_biz\u001b[0m\u001b[0;34m.\u001b[0m\u001b[0mcontents\u001b[0m\u001b[0;34m[\u001b[0m\u001b[0;36m0\u001b[0m\u001b[0;34m]\u001b[0m\u001b[0;34m.\u001b[0m\u001b[0mstrip\u001b[0m \u001b[0;34m(\u001b[0m\u001b[0;34m)\u001b[0m\u001b[0;34m\u001b[0m\u001b[0m\n\u001b[1;32m      8\u001b[0m     \u001b[0;32massert\u001b[0m \u001b[0mrank\u001b[0m \u001b[0;34m==\u001b[0m \u001b[0;34m'1.'\u001b[0m\u001b[0;34m\u001b[0m\u001b[0m\n",
      "\u001b[0;31mIndexError\u001b[0m: list index out of range"
     ]
    }
   ],
   "source": [
    "top_5 = [\"Georgia Tech\", \"Spelman College\", \"Emory Continuing Education\", \"Life University\",\n",
    "         \"Oglethorpe University\"]\n",
    "for k in range(1, len(top_5)+1):\n",
    "    your_result = get_yelp_result(uni_soup, k)\n",
    "    true_result = top_5[k-1]\n",
    "    assert your_result == true_result, \\\n",
    "           f\"Your rank-{k} result ('{your_result}') does not match the expected value ('{true_result}').\"\n",
    "    \n",
    "print(\"\\n(Passed!)\")"
   ]
  },
  {
   "cell_type": "markdown",
   "metadata": {
    "deletable": false,
    "editable": false,
    "nbgrader": {
     "grade": false,
     "grade_id": "cell-c21b203ae30914dc",
     "locked": true,
     "schema_version": 1,
     "solution": false
    }
   },
   "source": [
    "This mini-tutorial only scratches the surface of what is possible with Beautiful Soup. As always, refer to the [package's documentation](https://www.crummy.com/software/BeautifulSoup/) for all the awesome deets!"
   ]
  }
 ],
 "metadata": {
  "celltoolbar": "Create Assignment",
  "kernel_info": {
   "name": "python3"
  },
  "kernelspec": {
   "display_name": "Python 3 [3.6]",
   "language": "python",
   "name": "python3"
  },
  "language_info": {
   "codemirror_mode": {
    "name": "ipython",
    "version": 3
   },
   "file_extension": ".py",
   "mimetype": "text/x-python",
   "name": "python",
   "nbconvert_exporter": "python",
   "pygments_lexer": "ipython3",
   "version": "3.6.4"
  },
  "nteract": {
   "version": "0.15.0"
  }
 },
 "nbformat": 4,
 "nbformat_minor": 2
}
