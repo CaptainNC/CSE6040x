{
 "cells": [
  {
   "cell_type": "markdown",
   "metadata": {
    "deletable": false,
    "editable": false,
    "nbgrader": {
     "grade": false,
     "grade_id": "cell-5ae4e7b62e3457a9",
     "locked": true,
     "schema_version": 1,
     "solution": false
    }
   },
   "source": [
    "# Part 0: Mining the web\n",
    "\n",
    "Perhaps the richest source of openly available data today is [the Web](http://www.computerhistory.org/revolution/networking/19/314)! In this lab, you'll explore some of the basic programming tools you need to scrape web data.\n",
    "\n",
    "> **Note 0.** The Vocareum platform runs in a cloud-based environment that limits what websites a program can connect to directly. Therefore, some (or possibly all) of the code below will **not** work. Therefore, we are making this notebook **optional** and are providing some solutions inline.\n",
    ">\n",
    "> **Note 1.** Even if you are using a home or local installation of Jupyter, you may encounter problems if you attempt to access a site too many times or too rapidly. That can happen if your internet service provider (ISP) or the target website detect your accesses as \"unusual\" and reject them. It's easy to imagine accidentally writing an infinite loop that tries to access a page and being seen from the other side as a malicious program. :)\n",
    ">\n",
    "> **Note 2.** The exercises below involve processing of HTML files. However, you don't need to know anything specific about HTML; you can solve (and we have solved) all of these exercises assuming only that the data is a semi-structured string, amenable to simple string manipulation and regular expression processing techniques. In Part 1 of this notebook assignment, you'll see a different method that employs the [Beautiful Soup](https://www.crummy.com/software/BeautifulSoup/bs4/doc/) module.\n",
    ">\n",
    "> **Note 3.** Following Note 2, there are some outspoken people who believe you should never use regular expressions on HTML. Your instructor finds these arguments to be overly pedantic. For an entertaining take on the subject, see [this blog post](https://blog.codinghorror.com/parsing-html-the-cthulhu-way/)."
   ]
  },
  {
   "cell_type": "markdown",
   "metadata": {
    "deletable": false,
    "editable": false,
    "nbgrader": {
     "grade": false,
     "grade_id": "cell-8dc1f4f41590bfcc",
     "locked": true,
     "schema_version": 1,
     "solution": false
    }
   },
   "source": [
    "## The Requests module\n",
    "\n",
    "Python's [Requests module](http://requests.readthedocs.io/en/latest/user/quickstart/) to download a web page.\n",
    "\n",
    "For instance, here is a code fragment to download the [Georgia Tech](http://www.gatech.edu) home page and print the first 250 characters. You might also want to [view the source](http://www.computerhope.com/issues/ch000746.htm) of Georgia Tech's home page to get a nicely formatted view, and compare its output to what you see above.\n",
    "\n",
    "> If you you are having connection or download issues, we have also provided a file containing the HTML contents from a snapshot of the site. Just change the variable, `USE_LOCAL_SNAPSHOT` to `True` to load that file instead."
   ]
  },
  {
   "cell_type": "code",
   "execution_count": 1,
   "metadata": {
    "nbgrader": {
     "grade": false,
     "grade_id": "cell-9670461e96fd478a",
     "locked": false,
     "schema_version": 1,
     "solution": false
    }
   },
   "outputs": [
    {
     "name": "stdout",
     "output_type": "stream",
     "text": [
      "\n",
      "=== Reading webpage from local file ... ===\n",
      "\n",
      "<!DOCTYPE html>\n",
      "<html lang=\"en\" dir=\"ltr\" \n",
      "  xmlns:content=\"http://purl.org/rss/1.0/modules/content/\"\n",
      "  xmlns:dc=\"http://purl.org/dc/terms/\"\n",
      "  xmlns:foaf=\"http://xmlns.com/foaf/0.1/\"\n",
      "  xmlns:og=\"http://ogp.me/ns#\"\n",
      "  xmlns:rdfs=\"http://www.w3.org/2000\n"
     ]
    }
   ],
   "source": [
    "import requests\n",
    "\n",
    "USE_LOCAL_SNAPSHOT = True\n",
    "\n",
    "if USE_LOCAL_SNAPSHOT:\n",
    "    print(\"\\n=== Reading webpage from local file ... ===\\n\")\n",
    "    with open('gatech_edu--20190125-1143.html', 'rt') as fp:\n",
    "        webpage = fp.read()\n",
    "else:\n",
    "    print(\"\\n=== Attempting to download webpage ... ===\\n\")\n",
    "    response = requests.get('https://www.gatech.edu/')\n",
    "    webpage = response.text  # or response.content for raw bytes\n",
    "\n",
    "print(webpage[0:250]) # Prints the first hundred characters only"
   ]
  },
  {
   "cell_type": "markdown",
   "metadata": {},
   "source": [
    "**Exercise 1.** Given the string contents of the GT home page as above (e.g., the `webpage` variable), write a function that returns a list of links (URLs) of the site's \"top stories.\"\n",
    "\n",
    "For instance, consider the front page from Saturday, January 25, 2020:\n",
    "\n",
    "![www.gatech.edu as of Sat Jan 25, 2020](./gatech_edu--20190125-1143.png)\n",
    "\n",
    "The top stories are the ones associated with the three images (\"Quantum collaborators,\" \"10 x 10 x 10 Tech,\" and \"Transfer program offers...\").  Each image links to a news story, and we want your function to return the URL of each link. If no URLs can be found, the function should return an empty list."
   ]
  },
  {
   "cell_type": "code",
   "execution_count": 3,
   "metadata": {
    "collapsed": true,
    "nbgrader": {
     "grade": false,
     "grade_id": "get_top_stories",
     "locked": false,
     "schema_version": 1,
     "solution": true
    }
   },
   "outputs": [],
   "source": [
    "import re # A simple application of regular expressions should suffice for this exercise!\n",
    "\n",
    "def get_gt_top_stories(webpage_text):\n",
    "    \"\"\"Given the HTML text for the GT front page, returns a list\n",
    "    of the URLs of the top stories or an empty list if none are\n",
    "    found.\n",
    "    \"\"\"\n",
    "    ###\n",
    "    ### YOUR CODE HERE\n",
    "    ###\n",
    "    pattern = '''<a class=\"slide-link\" href=\"(?P<url>[^\"]+)\"'''\n",
    "    return re.findall(pattern, webpage_text)"
   ]
  },
  {
   "cell_type": "code",
   "execution_count": 4,
   "metadata": {
    "deletable": false,
    "editable": false,
    "nbgrader": {
     "grade": false,
     "grade_id": "cell-6016c0d059ce46b6",
     "locked": true,
     "schema_version": 1,
     "solution": false
    }
   },
   "outputs": [
    {
     "name": "stdout",
     "output_type": "stream",
     "text": [
      "Your claimed links to top stories:\n"
     ]
    }
   ],
   "source": [
    "top_stories = get_gt_top_stories(webpage)\n",
    "\n",
    "print(\"Your claimed links to top stories:\")\n",
    "for k, url in enumerate(top_stories):\n",
    "    print(k, url)"
   ]
  },
  {
   "cell_type": "markdown",
   "metadata": {
    "deletable": false,
    "editable": false,
    "nbgrader": {
     "grade": false,
     "grade_id": "cell-335e708786088da3",
     "locked": true,
     "schema_version": 1,
     "solution": false
    }
   },
   "source": [
    "## A more complex example\n",
    "\n",
    "Go to [Yelp!](http://www.yelp.com) and look up `ramen` in `Atlanta, GA`. Take note of the URL:\n",
    "\n",
    "![Yelp! search for ramen in ATL (January 25, 2020)](./yelp-ramen-atl--20200125-1205--scroll-to-results-annotated.png)"
   ]
  },
  {
   "cell_type": "markdown",
   "metadata": {
    "deletable": false,
    "editable": false,
    "nbgrader": {
     "grade": false,
     "grade_id": "cell-9beef10625b4a87b",
     "locked": true,
     "schema_version": 1,
     "solution": false
    }
   },
   "source": [
    "This URL encodes what is known as an _HTTP \"get\"_ method (or request). It basically means a URL with two parts: a _command_ followed by one or more _arguments_. In this case, the command is everything up to and including the word `search`; the arguments are the rest, where individual arguments are separated by the `&` or `#`.\n",
    "\n",
    "> \"HTTP\" stands for \"HyperText Transport Protocol,\" which is a standardized set of communication protocols that allow _web clients_, like your web browser or your Python program, to communicate with _web servers_.\n",
    "\n",
    "In this next example, let's see how to build a \"get request\" with the `requests` module. It's pretty easy!"
   ]
  },
  {
   "cell_type": "code",
   "execution_count": 5,
   "metadata": {
    "deletable": false,
    "editable": false,
    "nbgrader": {
     "grade": false,
     "grade_id": "cell-4b1c55e113ba9c09",
     "locked": true,
     "schema_version": 1,
     "solution": false
    }
   },
   "outputs": [
    {
     "name": "stdout",
     "output_type": "stream",
     "text": [
      "==> Downloading from: 'https://www.yelp.com/search?find_desc=ramen&find_loc=atlanta%2C+ga'\n",
      "\n",
      "==> Excerpt from this URL:\n",
      "\n",
      "<!DOCTYPE HTML>\n",
      "\n",
      "<!--[if lt IE 7 ]> <html xmlns:fb=\"http://www.facebook.com/2008/fbml\" class=\"ie6 ie ltie9 ltie8 no-js\" lang=\"en\"> <![endif]-->\n",
      "<!--[if IE 7 ]>    <html xmlns:fb=\"http://www.facebook.com/2008/fbml\" class=\"ie7 ie ltie9 ltie8 no-js\" lang=\"en\"> <![endif]-->\n",
      "<!--[if IE 8 ]>    <html xmlns:fb=\"http://www.facebook.com/2008/fbml\" class=\"ie8 ie ltie9 no-js\" lang=\"en\"> <![endif]-->\n",
      "<!--[if IE 9 ]>    <html xmlns:fb=\"http://www.facebook.com/2008/fbml\" class=\"ie9 ie no-js\" lang=\"en\"> <![endif]-->\n",
      "<!--[if (gt IE 9)|!(IE)]><!--> <html xmlns:fb=\"http://www.facebook.com/2008/fbml\" class=\"no-js\" lang=\"en\"> <!--<![endif]-->\n",
      "    <head>\n",
      "        <script>\n",
      "            (function() {\n",
      "                var main = null;\n",
      "\n",
      "                var main=function(){window.onerror=function(k,a,c,i,f){var j=(document.getElementsByTagName(\"html\")[0].getAttribute(\"webdriver\")===\"true\"||navigator.userAgent===\"selenium\");var h=f&&(f.name===\"ServerSideRenderingError\"||f.name===\"CSRFallbackError\");if(j&&!h){document.body.innerHTML=\"<h1>Javascript Error Detected</h1>\";var g=document.createElement(\"div\");g.setAttribute(\"id\",\"pastebinTraceback\");var d=document.createElement(\"code\");var e={message:k,source:a,lineno:c,colno:i,error:f};var b=document.createTextNode(\"JS ERROR DETECTED\\n\"+window.JSON.stringify(e,null,2));\n",
      "d.appendChild(b);g.appendChild(d);document.getElementsByTagName(\"body\")[0].appendChild(g)}}};\n",
      "\n",
      "                if (main === null) {\n",
      "                    throw 'invalid inline script, missing main declaration.';\n",
      "                }\n",
      "                main();\n",
      "            })();\n",
      "    </script>\n",
      "\n",
      "\n",
      "    <script>            window.yPageStart = new Date().getTime();\n",
      "</script>\n",
      "\n",
      "    <script>            var initialVisibilityState = document.webkitVisibilityState;\n",
      "\n",
      "                yPerfTimings = [];\n",
      "\n",
      "                ySitRepParams = {\"clientIP\": \"35.161.104.253\", \"datacenter\": \"us-west-1\", \"is_internal_ip\": false, \"edgeStartTime\": 1582988971030792, \"cfRayID\": null, \"site\": \"main\", \"serverStartTime\": 1582988971046, \"action\": null, \"edgestageSubdomain\": \"_disabled\", \"disableBeacon\": false, \"b3Sampled\": \"0\", \"uniqueRequestID\": \"f8b532cf61fee59e\", \"isLoggedIn\": false, \"zipkinTraceID\": \"7c1e7f6449228701\", \"servlet\": \"search\", \"yuv_record\": \"P5tbN21EraGie1ftXMa41SgJp4cTEb0GDx6d7juTP1rHopj88nBsmp-M3_h2dHRaGW7qPGgE_xNiUpyhraI5Mb_t8sVfSlvY\"};\n",
      "                window.ySitRepParams['initialVisibilityState'] = initialVisibilityState;\n",
      "                window.ySitRepParams['seoCohorts'] = null;\n",
      "\n",
      "\n",
      "            (function(H){H.className=H.className.replace(/\\bno-js\\b/,'js');})(document.documentElement);\n",
      "</script>\n",
      "\n",
      "    <script>            pageSpeedCustomTimestamps = {};\n",
      "</script>\n",
      "\n",
      "            <script>            (function(i,s,o,g,r,a,m){i['GoogleAnalyticsObject']=r;i[r]=i[r]||function(){(i[r].q=i[r].q||[]).push(arguments)},i[r].l=1*new Date();a=s.createElement(o),m=s.getElementsByTagName(o)[0];a.async=1;a.src=g;m.parentNode.insertBefore(a,m)})(window,document,'script','//www.google-analytics.com/analytics.js','ga');\n",
      "</script>\n",
      "\n",
      "\n",
      "\n",
      "        <script>\n",
      "            (function() {\n",
      "                var main = null;\n",
      "\n",
      "                !function(e){function t(n){if(i[n])return i[n].exports;var r=i[n]={i:n,l:!1,exports:{}};return e[n].call(r.exports,r,r.exports,t),r.l=!0,r.exports}var i={};t.m=e,t.c=i,t.d=function(e,i,n){t.o(e,i)||Object.defineProperty(e,i,{configurable:!1,enumerable:!0,get:n})},t.n=function(e){var i=e&&e.__esModule?function(){return e.default}:function(){return e};return t.d(i,\"a\",i),i},t.o=function(e,t){return Object.prototype.hasOwnProperty.call(e,t)},t.p=\"\",t(t.s=5)}([function(e,t,i){\"use strict\";var n=function(e,t){for(var i=0;i<e.length;i+=1)if(e[i]===t)return i;return-1};i.d(t,\"c\",function(){return r}),i.d(t,\"b\",function(){return o}),i.d(t,\"a\",function(){return s});var r=\"global\",o=\"biz\",s=\"biz_gtag\",a=[r,\"m\",\"www\",o,\"webview\",\"api\",\"admin\",\"error_pages\",s],c=function(e,t){if(n(a,t)>=0)return[t,e].join(\".\");throw new Error(\"google analytics attempted to set \"+e+\" to an unrecognized tracker alias: \"+t)};t.d=c},function(e,t,i){\"use strict\";function n(e){for(var t=1;t<arguments.length;t++){var i=null!=arguments[t]?arguments[t]:{},n=Object.keys(i);\"function\"==typeof Object.getOwnPropertySymbols&&(n=n.concat(Object.getOwnPropertySymbols(i).filter(function(e){return Object.getOwnPropertyDescriptor(i,e).enumerable}))),n.forEach(function(t){r(e,t,i[t])})}return e}function r(e,t,i){return t in e?Object.defineProperty(e,t,{value:i,enumerable:!0,configurable:!0,writable:!0}):e[t]=i,e}var o=i(2),s=i(3),a=i.n(s),c=function(e){var t=\"240+\";return e<=0?t=\"5\":e<=30?t=(5*Math.ceil(e/5)).toString():e<=120?t=(15*Math.ceil(e/15)).toString():e<=240&&(t=(30*Math.ceil(e/30)).toString()),t},u=c,l=function(){return parseInt(((new Date).getTime()-window.ygaPageStartTime)/1e3,10)},f=l,h=i(0),d=function(e,t){window.ga(Object(h.d)(\"send\",e),t)},m=d;Object.keys||a.a.shim(),Object.entries||(Object.entries=function(e){for(var t=Object.keys(e),i=new Array(t.length),n=0;n<t.length;n+=1)i[n]=[t[n],e[t[n]]];return i});var g=function(){function e(e){r(this,\"clientID\",void 0),r(this,\"dimensions\",void 0),r(this,\"domain\",void 0),r(this,\"friendlyMap\",void 0),r(this,\"jsDimensions\",void 0),r(this,\"metrics\",void 0),r(this,\"temporaryDimensions\",void 0),r(this,\"temporaryMetrics\",void 0),r(this,\"trackers\",void 0),r(this,\"userID\",void 0),r(this,\"enableHighVolumeEvents\",void 0),window.ga||(window.ga=function(){}),window.gtag||(window.gtag=function(){}),this.reload(e)}var t=e.prototype;return t.setupTrackers=function(){var e=this;this.friendlyMap={},this.temporaryDimensions={},this.temporaryMetrics={},Object.entries(this.trackers).forEach(function(t){var i=t[0],n=t[1];e.setupTracker(String(i),String(n))})},t.setupTracker=function(e,t){var i=this,r=n({cookieDomain:this.domain,name:e,clientId:this.clientID},this.userID?{userId:this.userID}:{});window.ga(\"create\",t,r),this.friendlyMap[e]={},this.temporaryDimensions[e]={},this.temporaryMetrics[e]={},this.addDimensionsToFriendlyMap(e,this.dimensions),this.addDimensionsToFriendlyMap(e,this.jsDimensions),this.dimensions[e]&&Object.keys(this.dimensions[e]).forEach(function(t){i.setDimension(String(t),i.dimensions[e][t][1])}),this.metrics[e]&&Object.keys(this.metrics[e]).forEach(function(t){i.setMetric(i.metrics[e][t][0],i.metrics[e][t][1],e)}),window.ga(Object(h.d)(\"set\",e),\"anonymizeIp\",!0)},t.addDimensionsToFriendlyMap=function(e,t){var i=this;t&&t[e]&&Object.keys(t[e]).forEach(function(n){i.friendlyMap[e][n]=t[e][n][0]})},t.firePageviews=function(e){var t=this;Object.keys(this.trackers).forEach(function(i){t.firePageview(String(i),e)})},t.firePageviewsWithGlobalTrackerSampled=function(e){var t=this;Object.keys(this.trackers).forEach(function(i){(i!==h.c||t.enableHighVolumeEvents)&&t.firePageview(String(i),e)})},t.firePageview=function(e,t){if(e===h.a){var i=this.trackers[e],r=n({},this.dimensions[e],this.jsDimensions[e]),o=Object.values(r).reduce(function(e,t){var i,r=t[0],o=t[1];return n({},e,(i={},i[\"dimension\"+r]=null===o?o:o.toString(),i))},{}),s=Object.values(this.metrics[e]||{}).reduce(function(e,t){var i,r=t[0],o=t[1];return n({},e,(i={},i[\"metric\"+r]=o,i))},{});window.gtag(\"event\",\"page_view\",n({send_to:i,anonymize_ip:!0,cookie_domain:this.domain,client_id:this.clientID},o,s,this.userID?{user_id:this.userID}:{},t?{page_path:t}:{}))}else t&&window.ga(Object(h.d)(\"set\",e),\"page\",t),window.ga(Object(h.d)(\"send\",e),\"pageview\")},t.setDimensionOneEvent=function(e,t){var i=this;Object.keys(this.friendlyMap).forEach(function(n){var r=i.friendlyMap[n][e];void 0!==r&&null!==t&&(i.temporaryDimensions[n][\"dimension\"+r]=t.toString())})},t.setDimension=function(e,t){var i=this;Object.keys(this.friendlyMap).forEach(function(n){var r=i.friendlyMap[n][e];void 0!==r&&null!==t&&window.ga(Object(h.d)(\"set\",n),\"dimension\"+r,t.toString())})},t.setDimensions=function(e){var t=this;Object.keys(e).forEach(function(i){t.setDimension(i,e[i])})},t.setMetric=function(e,t,i){window.ga(Object(h.d)(\"set\",i),\"metric\"+e,t)},t.setMetricOneEvent=function(e,t,i){this.temporaryMetrics[i][\"metric\"+e]=t},t.trackEvent=function(e,t,i,r,o){var s=this;Object.keys(this.trackers).forEach(function(a){if(a===h.a){var c=s.trackers[a];window.gtag(\"event\",t,n({send_to:c,event_category:e,non_interaction:!0},s.temporaryDimensions[a],s.temporaryMetrics[a],i&&{event_label:i},r&&{value:r},o&&{event_callback:o}))}else if(a!==h.c){var u=n({hitType:\"event\",eventCategory:e,eventAction:t,eventLabel:i,eventValue:r},o&&{hitCallback:o},{nonInteraction:!0},s.temporaryDimensions[a],s.temporaryMetrics[a]);m(String(a),u)}s.temporaryDimensions[a]={},s.temporaryMetrics[a]={}})},t.trackTiming=function(e,t,i,n){var r={hitType:\"timing\",timingCategory:e,timingVar:t,timingValue:i,timingLabel:n};Object.keys(this.trackers).forEach(function(e){m(String(e),r)})},t.trackEventHighVolume=function(e,t,i,n,r){if(this.enableHighVolumeEvents){var o=e+\" / 10\";this.trackEvent(o,t,i,n,r)}},t.trackEventWithTime=function(e,t,i){this.trackEvent(e,t,i,f())},t.initTimeOnPageEvent=function(){var e=this;Object(o.a)(window).on(\"beforeunload\",function(){var t=f(),i=u(t);e.trackEventHighVolume(\"time on page\",\"unload\",i,t)})},t.initDwellTimeEvent=function(){var e=this;setTimeout(function(){e.trackEvent(\"dwell time\",\"dwell\",\"30 seconds\")},3e4)},t.applyConfig=function(e){this.trackers=e.trackers,this.domain=e.domain,this.clientID=e.clientID,this.userID=e.user_id,this.dimensions=e.dimensions,this.metrics=e.metrics,this.jsDimensions=e.js_dimensions,this.enableHighVolumeEvents=e.enable_high_volume_events},t.reload=function(e){this.applyConfig(e),this.setupTrackers()},t.getGaConfig=function(){return{trackers:this.trackers,domain:this.domain,clientID:this.clientID,user_id:this.userID,dimensions:this.dimensions,metrics:this.metrics,js_dimensions:this.jsDimensions,enable_high_volume_events:this.enableHighVolumeEvents}},e.init=function(t){e.instance=new e(t)},e.getInstance=function(){var t=e.instance;if(null==t)throw Error(\"yelp_google_analytics.GoogleAnalytics not i\n",
      "\n"
     ]
    }
   ],
   "source": [
    "url_command = 'https://yelp.com/search'\n",
    "url_args = {'find_desc': \"ramen\",\n",
    "            'find_loc': \"atlanta, ga\"}\n",
    "response = requests.get (url_command, params=url_args, timeout=60)\n",
    "\n",
    "print(\"==> Downloading from: '%s'\" % response.url) # confirm URL\n",
    "print(\"\\n==> Excerpt from this URL:\\n\\n%s\\n\" % response.text[0:10000])"
   ]
  },
  {
   "cell_type": "markdown",
   "metadata": {},
   "source": [
    "**Sample data (HTML file) from a Yelp! query.** We've pre-downloaded the results of a query for `\"fried chicken\"` in `\"atlanta, ga\"`, and stored it in a local file. The following code cell will read its contents and store them in a variable called, `yelp_fried_chicken_atl_query_html`, which the test cells will use."
   ]
  },
  {
   "cell_type": "code",
   "execution_count": 6,
   "metadata": {},
   "outputs": [
    {
     "name": "stdout",
     "output_type": "stream",
     "text": [
      "=== First few characters of 'yelp-fried_chicken-atl--20200125-1240.html' ===\n",
      "\n",
      "<!DOCTYPE HTML>\n",
      "\n",
      "<!--[if lt IE 7 ]> <html xmlns:fb=\"http://www.facebook.com/2008/fbml\" class=\"ie6 ie ltie9 ltie8 no-js\" lang=\"en\"> <![endif]-->\n",
      "<!--[if IE 7 ]>    <html xmlns:fb=\"http://www.facebook.com/2008/fbml\" class=\"ie7 ie ltie9 ltie8 no-js\" lang=\"en\"> <![endif]-->\n",
      "<!--[if IE 8 ]>    <html xmlns:fb=\"http://www.facebook.com/2008/fbml\" class=\"ie8 ie ltie9 no-js\" lang=\"en\"> <![endif]-->\n",
      "<!--[if IE 9 ]>    <html xmlns:fb=\"http://www.facebook.com/2008/fbml\" class=\"ie9 ie no-js\" lang=\"en\"> <![endif]-->\n",
      "<!--[if (gt IE 9)|!(IE)]><!--> <html xmlns:fb=\"http://www.facebook.com/2008/fbml\" class=\"no-js\" lang=\"en\"> <!--<![endif]-->\n",
      "    <head>\n",
      "        <script>\n",
      "            (function() {\n",
      "                var main = null;\n",
      "\n",
      "                var main=function(){window.onerror=function(k,a,c,i,f){var j=(document.getElementsByTagName(\"html\")[0].getAttribute(\"webdriver\")===\"true\"||navigator.userAgent===\"selenium\");var h=f&&(f.name===\"ServerSideRenderingError\"||f.name===\"CSRFallbackError\");if(j&&!h){docume\n"
     ]
    }
   ],
   "source": [
    "# Query page for fried chicken in Atlanta (pre-downloaded):\n",
    "sample_query_filename = \"yelp-fried_chicken-atl--20200125-1240.html\"\n",
    "with open(sample_query_filename, \"rt\") as fp:\n",
    "    yelp_fried_chicken_atl_query_html = fp.read()\n",
    "    \n",
    "# Sample:\n",
    "print(f\"=== First few characters of '{sample_query_filename}' ===\\n\")\n",
    "print(yelp_fried_chicken_atl_query_html[:1000])"
   ]
  },
  {
   "cell_type": "markdown",
   "metadata": {},
   "source": [
    "**Exercise 2.** Given a string holding the HTML contents of a Yelp query, like the one above, complete the function below so it returns the list of the names of all **non-sponsored** search results. The list should be in ascending order of the rank of the result, and should contain no more than 10 items (since a query of the form above returns, by default, the top 10 matches).\n",
    "\n",
    "> **Note 0.** The test cell uses the pre-downloaded query file from above. You may find it helpful to open that file in a web browser, view the source, and study its contents.\n",
    ">\n",
    "> **Note 1.** We are providing one possible solution, which uses elementary string processing and regular expressions. How would you have approached this problem?"
   ]
  },
  {
   "cell_type": "code",
   "execution_count": 7,
   "metadata": {
    "collapsed": true,
    "nbgrader": {
     "grade": false,
     "grade_id": "yelp_find_item",
     "locked": false,
     "schema_version": 1,
     "solution": true
    }
   },
   "outputs": [],
   "source": [
    "import re\n",
    "\n",
    "def find_biz_names(html_string):\n",
    "    # SAMPLE SOLUTION:\n",
    "    all_results_raw = html_string.split(r'\"text\":\"All Results\"')[1]\n",
    "    items_raw = all_results_raw.split('\"ranking\":')\n",
    "    top10 = [None] * 10\n",
    "    for item in items_raw:\n",
    "        match = re.match(r'^([0-9]+),\"reviewCount\":\\d+,\"name\":\"([^\"]*)\"', item)\n",
    "        if match is not None:\n",
    "            rank = int(match.groups()[0])\n",
    "            name = match.groups()[1]\n",
    "            if 1 <= rank <= 10:\n",
    "                top10[rank-1] = name\n",
    "    return top10"
   ]
  },
  {
   "cell_type": "code",
   "execution_count": 8,
   "metadata": {},
   "outputs": [
    {
     "data": {
      "text/plain": [
       "['Hattie B’s Hot Chicken - Atlanta',\n",
       " 'Gus’s World Famous Fried Chicken',\n",
       " 'Roc South Cuisine',\n",
       " 'South City Kitchen Midtown',\n",
       " 'Buttermilk Kitchen',\n",
       " 'Mary Mac’s Tea Room',\n",
       " 'Rock’s Chicken &amp; Fries',\n",
       " 'Busy Bee Cafe',\n",
       " 'Joella’s Hot Chicken - Cumberland',\n",
       " 'Gus’s World Famous Fried Chicken']"
      ]
     },
     "execution_count": 8,
     "metadata": {},
     "output_type": "execute_result"
    }
   ],
   "source": [
    "# Demo:\n",
    "find_biz_names(yelp_fried_chicken_atl_query_html)"
   ]
  },
  {
   "cell_type": "code",
   "execution_count": 9,
   "metadata": {
    "deletable": false,
    "editable": false,
    "nbgrader": {
     "grade": true,
     "grade_id": "yelp_atl__test1",
     "locked": true,
     "points": 0,
     "schema_version": 1,
     "solution": false
    }
   },
   "outputs": [
    {
     "name": "stdout",
     "output_type": "stream",
     "text": [
      "Loading HTML query results from yelp-fried_chicken-atl--20200125-1240.html...\n",
      "\n",
      "(Passed!)\n"
     ]
    }
   ],
   "source": [
    "# Test cell 1: `yelp_atl__test1`\n",
    "def load_query_results(filename):\n",
    "    print(f\"Loading HTML query results from {filename}...\")\n",
    "    with open(filename, \"rt\") as fp:\n",
    "        html_string = fp.read()\n",
    "    return html_string\n",
    "\n",
    "query_0 = load_query_results(\"yelp-fried_chicken-atl--20200125-1240.html\")\n",
    "your_top10_0 = find_biz_names(query_0)\n",
    "assert your_top10_0 == ['Hattie B’s Hot Chicken - Atlanta',\n",
    " 'Gus’s World Famous Fried Chicken',\n",
    " 'Roc South Cuisine',\n",
    " 'South City Kitchen Midtown',\n",
    " 'Buttermilk Kitchen',\n",
    " 'Mary Mac’s Tea Room',\n",
    " 'Rock’s Chicken &amp; Fries',\n",
    " 'Busy Bee Cafe',\n",
    " 'Joella’s Hot Chicken - Cumberland',\n",
    " 'Gus’s World Famous Fried Chicken']\n",
    "\n",
    "print(\"\\n(Passed!)\")"
   ]
  },
  {
   "cell_type": "code",
   "execution_count": 10,
   "metadata": {
    "deletable": false,
    "editable": false,
    "nbgrader": {
     "grade": true,
     "grade_id": "yelp_atl__test2",
     "locked": true,
     "points": 0,
     "schema_version": 1,
     "solution": false
    }
   },
   "outputs": [
    {
     "name": "stdout",
     "output_type": "stream",
     "text": [
      "Loading HTML query results from yelp-ramen-atl--20200125-1205.html...\n",
      "\n",
      "(Passed!)\n"
     ]
    }
   ],
   "source": [
    "# Test cell 2: `yelp_atl__test2`\n",
    "query_1 = load_query_results(\"yelp-ramen-atl--20200125-1205.html\")\n",
    "your_top10_1 = find_biz_names(query_1)\n",
    "assert your_top10_1 == ['JINYA Ramen Bar',\n",
    "                        'E Ramen +',\n",
    "                        'Ginya Izakaya',\n",
    "                        'JINYA Ramen Bar',\n",
    "                        'Hajime',\n",
    "                        'Okiboru Tsukemen &amp; Ramen',\n",
    "                        'Hotto Hotto Ramen &amp; Teppanyaki',\n",
    "                        'Lifting Noodles Ramen',\n",
    "                        'Tanaka Ramen',\n",
    "                        'Ton Ton']\n",
    "print(\"\\n(Passed!)\")"
   ]
  },
  {
   "cell_type": "markdown",
   "metadata": {
    "deletable": false,
    "editable": false,
    "nbgrader": {
     "grade": false,
     "grade_id": "cell-79798e6a4a127482",
     "locked": true,
     "schema_version": 1,
     "solution": false
    }
   },
   "source": [
    "One issue with the above exercises is that they treat HTML as a flat string, whereas the document is at least semi-structured. Moreover, web pages are such a common source of data today that you would expect better tools for processing them. Indeed, such tools exist! The next part of this assignment, Part 1, walks you through one such tool. So, head there when you are ready!"
   ]
  }
 ],
 "metadata": {
  "anaconda-cloud": [],
  "celltoolbar": "Create Assignment",
  "kernelspec": {
   "display_name": "Python 3 [3.6]",
   "language": "python",
   "name": "python3"
  },
  "language_info": {
   "codemirror_mode": {
    "name": "ipython",
    "version": 3
   },
   "file_extension": ".py",
   "mimetype": "text/x-python",
   "name": "python",
   "nbconvert_exporter": "python",
   "pygments_lexer": "ipython3",
   "version": "3.6.4"
  }
 },
 "nbformat": 4,
 "nbformat_minor": 1
}
