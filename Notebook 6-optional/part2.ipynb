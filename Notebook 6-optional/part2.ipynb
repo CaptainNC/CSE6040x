{
 "cells": [
  {
   "cell_type": "markdown",
   "metadata": {
    "deletable": false,
    "editable": false,
    "nbgrader": {
     "grade": false,
     "grade_id": "cell-6f2b19db531e74fd",
     "locked": true,
     "schema_version": 1,
     "solution": false
    }
   },
   "source": [
    "# Part 2: Mining the web: Web APIs\n",
    "\n",
    "We hope the preceding exercise was painful: even with tools to process HTML, it is rough downloading raw HTML and trying to extract information from it!\n",
    "\n",
    "> Can you think of any other reasons why scraping websites for data in this way is not a good idea?\n",
    "\n",
    "Luckily, many websites provide an application programming interface (API) for querying their data or otherwise accessing their services from your programs. For instance, Twitter provides a web API for gathering tweets, Flickr provides one for gathering image data, and Github for accessing information about repository histories.\n",
    "\n",
    "These kinds of web APIs are much easier to use than, for instance, the preceding technique which scrapes raw web pages and then has to parse the resulting HTML. Moreover, there are more scalable in the sense that the web servers can transmit structured data in a less verbose form than raw HTML.\n",
    "\n",
    "As a starting example, here is some code to look at the activity on Github related to the public version of one of our course's materials."
   ]
  },
  {
   "cell_type": "code",
   "execution_count": 1,
   "metadata": {
    "deletable": false,
    "editable": false,
    "nbgrader": {
     "grade": false,
     "grade_id": "cell-e969cac2e271f5ec",
     "locked": true,
     "schema_version": 1,
     "solution": false
    }
   },
   "outputs": [
    {
     "data": {
      "text/markdown": [
       "{'Date': 'Sun, 15 Mar 2020 14:56:29 GMT', 'Content-Type': '**application/json**; charset=utf-8', 'Transfer-Encoding': 'chunked', 'Server': 'GitHub.com', 'Status': '200 OK', 'X-RateLimit-Limit': '60', 'X-RateLimit-Remaining': '59', 'X-RateLimit-Reset': '1584287789', 'Cache-Control': 'public, max-age=60, s-maxage=60', 'Vary': 'Accept, Accept-Encoding, Accept, X-Requested-With', 'ETag': 'W/\"49c15e9ae818ec13d4c3f4dbfb7e2c17\"', 'Last-Modified': 'Thu, 12 Mar 2020 22:51:56 GMT', 'X-Poll-Interval': '60', 'X-GitHub-Media-Type': 'github.v3; format=json', 'Access-Control-Expose-Headers': 'ETag, Link, Location, Retry-After, X-GitHub-OTP, X-RateLimit-Limit, X-RateLimit-Remaining, X-RateLimit-Reset, X-OAuth-Scopes, X-Accepted-OAuth-Scopes, X-Poll-Interval, X-GitHub-Media-Type, Deprecation, Sunset', 'Access-Control-Allow-Origin': '*', 'Strict-Transport-Security': 'max-age=31536000; includeSubdomains; preload', 'X-Frame-Options': 'deny', 'X-Content-Type-Options': 'nosniff', 'X-XSS-Protection': '1; mode=block', 'Referrer-Policy': 'origin-when-cross-origin, strict-origin-when-cross-origin', 'Content-Security-Policy': \"default-src 'none'\", 'Content-Encoding': 'gzip', 'X-GitHub-Request-Id': 'CC36:6469:24D70:2C8D5:5E6E421D'}"
      ],
      "text/plain": [
       "<IPython.core.display.Markdown object>"
      ]
     },
     "metadata": {},
     "output_type": "display_data"
    }
   ],
   "source": [
    "from IPython.display import display, Markdown\n",
    "\n",
    "import requests\n",
    "response = requests.get('https://api.github.com/repos/hpcgarage/prymer/events')\n",
    "\n",
    "headers_highlighted = str(response.headers).replace(\"'Content-Type': 'application/json;\",\n",
    "                                                    \"'Content-Type': '**application/json**;\")\n",
    "display(Markdown(headers_highlighted))"
   ]
  },
  {
   "cell_type": "markdown",
   "metadata": {
    "deletable": false,
    "editable": false,
    "nbgrader": {
     "grade": false,
     "grade_id": "cell-2a08d680885303e5",
     "locked": true,
     "schema_version": 1,
     "solution": false
    }
   },
   "source": [
    "Note the `Content-Type` of the response:"
   ]
  },
  {
   "cell_type": "code",
   "execution_count": 2,
   "metadata": {
    "deletable": false,
    "editable": false,
    "nbgrader": {
     "grade": false,
     "grade_id": "cell-89ebf4242e6c1940",
     "locked": true,
     "schema_version": 1,
     "solution": false
    }
   },
   "outputs": [
    {
     "name": "stdout",
     "output_type": "stream",
     "text": [
      "application/json; charset=utf-8\n"
     ]
    }
   ],
   "source": [
    "print(response.headers['Content-Type'])"
   ]
  },
  {
   "cell_type": "markdown",
   "metadata": {
    "deletable": false,
    "editable": false,
    "nbgrader": {
     "grade": false,
     "grade_id": "cell-752159137c70eb17",
     "locked": true,
     "schema_version": 1,
     "solution": false
    }
   },
   "source": [
    "The response is in JSON format, which is an open format for exchanging semi-structured data. (JSON stands for **J**ava**S**cript **O**bject **N**otation.) JSON is designed to be human-readable and machine-readable, and maps especially well in Python to nested dictionaries. Let's take a look.\n",
    "\n",
    "> See also [this tutorial](https://www.w3schools.com/js/js_json_intro.asp) for a JSON primer. JSON is among _the_ universal formats for sharing data on the web; see, for instance, https://www.sitepoint.com/10-example-json-files/."
   ]
  },
  {
   "cell_type": "code",
   "execution_count": 3,
   "metadata": {
    "deletable": false,
    "editable": false,
    "nbgrader": {
     "grade": false,
     "grade_id": "cell-4bcf26ae80bab53b",
     "locked": true,
     "schema_version": 1,
     "solution": false
    }
   },
   "outputs": [
    {
     "name": "stdout",
     "output_type": "stream",
     "text": [
      "<class 'list'>\n",
      "[\n",
      "  {\n",
      "    \"actor\": {\n",
      "      \"avatar_url\": \"https://avatars.githubusercontent.com/u/47052189?\",\n",
      "      \"display_login\": \"adrian-pardo\",\n",
      "      \"gravatar_id\": \"\",\n",
      "      \"id\": 47052189,\n",
      "      \"login\": \"adrian-pardo\",\n",
      "      \"url\": \"https://api.github.com/users/adrian-pardo\"\n",
      "    },\n",
      "    \"created_at\": \"2020-03-12T22:51:56Z\",\n",
      "    \"id\": \"11752215301\",\n",
      "    \"org\": {\n",
      "      \"avatar_url\": \"https://avatars.githubusercontent.com/u/6626190?\",\n",
      "      \"gravatar_id\": \"\",\n",
      "      \"id\": 6626190,\n",
      "      \"login\": \"hpcgarage\",\n",
      "      \"url\": \"https://api.github.com/orgs/hpcgarage\"\n",
      "    },\n",
      "    \"payload\": {\n",
      "      \"action\": \"started\"\n",
      "    },\n",
      "    \"public\": true,\n",
      "    \"repo\": {\n",
      "      \"id\": 202786912,\n",
      "      \"name\": \"hpcgarage/prymer\",\n",
      "      \"url\": \"https://api.github.com/repos/hpcgarage/prymer\"\n",
      "    },\n",
      "    \"type\": \"WatchEvent\"\n",
      "  },\n",
      "  {\n",
      "    \"actor\": {\n",
      "      \"avatar_url\": \"https://avatars.githubusercontent.com/u/47452129?\",\n",
      "      \"display_login\": \"sirhugh15\",\n",
      "      \"gravatar_id\": \"\",\n",
      "      \"id\": 47452129,\n",
      "      \"login\": \"sirhugh15\",\n",
      "      \"url\": \"https://api.github.com/users/sirhugh15\"\n",
      "    },\n",
      "    \"created_at\": \"2020-01-21T18:26:41Z\",\n",
      "    \"id\": \"11326793090\",\n",
      "    \"org\": {\n",
      "      \"avatar_url\": \"https://avatars.githubusercontent.com/u/6626190?\",\n",
      "      \"gravatar_id\": \"\",\n",
      "      \"id\": 6626190,\n",
      "      \"login\": \"hpcgarage\",\n",
      "      \"url\": \"https://api.github.com/orgs/hpcgarage\"\n",
      "    },\n",
      "    \"payload\": {\n",
      "      \"action\": \"started\"\n",
      "    },\n",
      "    \"public\": true,\n",
      "    \"repo\": {\n",
      "      \"id\": 202786912,\n",
      "      \"name\": \"hpcgarage/prymer\",\n",
      "      \"url\": \"https://api.github.com/repos/hpcgarage/prymer\"\n",
      "    },\n",
      "    \"type\": \"WatchEvent\"\n",
      "  },\n",
      "  {\n",
      "    \"actor\": {\n",
      "      \"avatar_url\": \"https://avatars.githubusercontent.com/u/37032239?\",\n",
      "      \"display_login\": \"thanig\",\n",
      "      \"gravatar_id\": \"\",\n",
      "      \"id\": 37032239,\n",
      "      \"login\": \"thanig\",\n",
      "      \"url\": \"https://api.github.com/users/thanig\"\n",
      "    },\n",
      "    \"created_at\": \"2020-01-19T23:49:27Z\",\n",
      "    \"id\": \"11311067831\",\n",
      "    \"org\": {\n",
      "      \"avatar_url\": \"https://avatars.githubusercontent.com/u/6626190?\",\n",
      "      \"gravatar_id\": \"\",\n",
      "      \"id\": 6626190,\n",
      "      \"login\": \"hpcgarage\",\n",
      "      \"url\": \"https://api.github.com/orgs/hpcgarage\"\n",
      "    },\n",
      "    \"payload\": {\n",
      "      \"forkee\": {\n",
      "        \"archive_url\": \"https://api.github.com/repos/thanig/prymer/{archive_format}{/ref}\",\n",
      "        \"archived\": false,\n",
      "        \"assignees_url\": \"https://api.github.com/repos/thanig/prymer/assignees{/user}\",\n",
      "        \"blobs_url\": \"https://api.github.com/repos/thanig/prymer/git/blobs{/sha}\",\n",
      "        \"branches_url\": \"https://api.github.com/repos/thanig/prymer/branches{/branch}\",\n",
      "        \"clone_url\": \"https://github.com/thanig/prymer.git\",\n",
      "        \"collaborators_url\": \"https://api.github.com/repos/thanig/prymer/collaborators{/collaborator}\",\n",
      "        \"comments_url\": \"https://api.github.com/repos/thanig/prymer/comments{/number}\",\n",
      "        \"commits_url\": \"https://api.github.com/repos/thanig/prymer/commits{/sha}\",\n",
      "        \"compare_url\": \"https://api.github.com/repos/thanig/prymer/compare/{base}...{head}\",\n",
      "        \"contents_url\": \"https://api.github.com/repos/thanig/prymer/contents/{+path}\",\n",
      "        \"contributors_url\": \"https://api.github.com/repos/thanig/prymer/contributors\",\n",
      "        \"created_at\": \"2020-01-19T23:49:27Z\",\n",
      "        \"default_branch\": \"master\",\n",
      "        \"deployments_url\": \"https://api.github.com/repos/thanig/prymer/deployments\",\n",
      "        \"description\": \"A Python primer for Georgia Tech's CSE 6040/x: Computing for Data Analysis\",\n",
      "        \"disabled\": false,\n",
      "        \"downloads_url\": \"https://api.github.com/repos/thanig/prymer/downloads\",\n",
      "        \"events_url\": \"https://api.github.com/repos/thanig/prymer/events\",\n",
      "        \"fork\": true,\n",
      "        \"forks\": 0,\n",
      "        \"forks_count\": 0,\n",
      "        \"forks_url\": \"https://api.github.com/repos/thanig/prymer/forks\",\n",
      "        \"full_name\": \"thanig/prymer\",\n",
      "        \"git_commits_url\": \"https://api.github.com/repos/thanig/prymer/git/commits{/sha}\",\n",
      "        \"git_refs_url\": \"https://api.github.com/repos/thanig/prymer/git/refs{/sha}\",\n",
      "        \"git_tags_url\": \"https://api.github.com/repos/thanig/prymer/git/tags{/sha}\",\n",
      "        \"git_url\": \"git://github.com/thanig/prymer.git\",\n",
      "        \"has_downloads\": true,\n",
      "        \"has_issues\": false,\n",
      "        \"has_pages\": false,\n",
      "        \"has_projects\": true,\n",
      "        \"has_wiki\": true,\n",
      "        \"homepage\": null,\n",
      "        \"hooks_url\": \"https://api.github.com/repos/thanig/prymer/hooks\",\n",
      "        \"html_url\": \"https://github.com/thanig/prymer\",\n",
      "        \"id\": 234985322,\n",
      "        \"issue_comment_url\": \"https://api.github.com/repos/thanig/prymer/issues/comments{/number}\",\n",
      "        \"issue_events_url\": \"https://api.github.com/repos/thanig/prymer/issues/events{/number}\",\n",
      "        \"issues_url\": \"https://api.github.com/repos/thanig/prymer/issues{/number}\",\n",
      "        \"keys_url\": \"https://api.github.com/repos/thanig/prymer/keys{/key_id}\",\n",
      "        \"labels_url\": \"https://api.github.com/repos/thanig/prymer/labels{/name}\",\n",
      "        \"language\": null,\n",
      "        \"languages_url\": \"https://api.github.com/repos/thanig/prymer/languages\",\n",
      "        \"license\": null,\n",
      "        \"merges_url\": \"https://api.github.com/repos/thanig/prymer/merges\",\n",
      "        \"milestones_url\": \"https://api.github.com/repos/thanig/prymer/milestones{/number}\",\n",
      "        \"mirror_url\": null,\n",
      "        \"name\": \"prymer\",\n",
      "        \"node_id\": \"MDEwOlJlcG9zaXRvcnkyMzQ5ODUzMjI=\",\n",
      "        \"notifications_url\": \"https://api.github.com/repos/thanig/prymer/notifications{?since,all,participating}\",\n",
      "        \"open_issues\": 0,\n",
      "        \"open_issues_count\": 0,\n",
      "        \"owner\": {\n",
      "          \"avatar_url\": \"https://avatars1.githubusercontent.com/u/37032239?v=4\",\n",
      "          \"events_url\": \"https://api.github.com/users/thanig/events{/privacy}\",\n",
      "          \"followers_url\": \"https://api.github.com/users/thanig/followers\",\n",
      "          \"following_url\": \"https://api.github.com/users/thanig/following{/other_user}\",\n",
      "          \"gists_url\": \"https://api.github.com/users/thanig/gists{/gist_id}\",\n",
      "          \"gravatar_id\": \"\",\n",
      "          \"html_url\": \"https://github.com/thanig\",\n",
      "          \"id\": 37032239,\n",
      "          \"login\": \"thanig\",\n",
      "          \"node_id\": \"MDQ6VXNlcjM3MDMyMjM5\",\n",
      "          \"organizations_url\": \"https://api.github.com/users/thanig/orgs\",\n",
      "          \"received_events_url\": \"https://api.github.com/users/thanig/received_events\",\n",
      "          \"repos_url\": \"https://api.github.com/users/thanig/repos\",\n",
      "          \"site_admin\": false,\n",
      "          \"starred_url\": \"https://api.github.com/users/thanig/starred{/owner}{/repo}\",\n",
      "          \"subscriptions_url\": \"https://api.github.com/users/thanig/subscriptions\",\n",
      "          \"type\": \"User\",\n",
      "          \"url\": \"https://api.github.com/users/thanig\"\n",
      "        },\n",
      "        \"private\": false,\n",
      "        \"public\": true,\n",
      "        \"pulls_url\": \"https://api.github.com/repos/thanig/prymer/pulls{/number}\",\n",
      "        \"pushed_at\": \"2019-09-13T12:47:30Z\",\n",
      "        \"releases_url\": \"https://api.github.com/repos/thanig/prymer/releases{/id}\",\n",
      "        \"size\": 64,\n",
      "        \"ssh_url\": \"git@github.com:thanig/prymer.git\",\n",
      "        \"stargazers_count\": 0,\n",
      "        \"stargazers_url\": \"https://api.github.com/repos/thanig/prymer/stargazers\",\n",
      "        \"statuses_url\": \"https://api.github.com/repos/thanig/prymer/statuses/{sha}\",\n",
      "        \"subscribers_url\": \"https://api.github.com/repos/thanig/prymer/subscribers\",\n",
      "        \"subscription_url\": \"https://api.github.com/repos/thanig/prymer/subscription\",\n",
      "        \"svn_url\": \"https://github.com/thanig/prymer\",\n",
      "        \"tags_url\": \"https://api.github.com/repos/thanig/prymer/tags\",\n",
      "        \"teams_url\": \"https://api.github.com/repos/thanig/prymer/teams\",\n",
      "        \"trees_url\": \"https://api.github.com/repos/thanig/prymer/git/trees{/sha}\",\n",
      "        \"updated_at\": \"2020-01-17T13:10:01Z\",\n",
      "        \"url\": \"https://api.github.com/repos/thanig/prymer\",\n",
      "        \"watchers\": 0,\n",
      "        \"watchers_count\": 0\n",
      "      }\n",
      "    },\n",
      "    \"public\": true,\n",
      "    \"repo\": {\n",
      "      \"id\": 202786912,\n",
      "      \"name\": \"hpcgarage/prymer\",\n",
      "      \"url\": \"https://api.github.com/repos/hpcgarage/prymer\"\n",
      "    },\n",
      "    \"type\": \"ForkEvent\"\n",
      "  }\n",
      "]\n"
     ]
    }
   ],
   "source": [
    "import json\n",
    "print(type(response.json()))\n",
    "print(json.dumps(response.json()[:3], sort_keys=True, indent=2))"
   ]
  },
  {
   "cell_type": "markdown",
   "metadata": {
    "deletable": false,
    "editable": false,
    "nbgrader": {
     "grade": false,
     "grade_id": "cell-5be03b16bcb0c40f",
     "locked": true,
     "schema_version": 1,
     "solution": false
    }
   },
   "source": [
    "**Exercise 0.** It should be self-evident that the JSON response above consists of a sequence of records, which we will refer to as _events_. Each event is associated with an _actor_. Write some code to extract a dictionary of all actors, where the key is the actor's login and the value is the actor's URL."
   ]
  },
  {
   "cell_type": "code",
   "execution_count": 4,
   "metadata": {
    "collapsed": true,
    "nbgrader": {
     "grade": false,
     "grade_id": "extract_actors",
     "locked": false,
     "schema_version": 1,
     "solution": true
    }
   },
   "outputs": [],
   "source": [
    "def extract_actors (json_github_events):\n",
    "    \"\"\"Given JSON records for events in a GitHub repo,\n",
    "    returns a dictionary of the actors and their URLs.\n",
    "    \"\"\"\n",
    "    ###\n",
    "    ### YOUR CODE HERE\n",
    "    ###\n",
    "    urls = {}\n",
    "    for event in json_github_events:\n",
    "        actor = event['actor']['display_login']\n",
    "        url = event['actor']['url']\n",
    "        urls[actor] = url\n",
    "    return urls"
   ]
  },
  {
   "cell_type": "code",
   "execution_count": 5,
   "metadata": {
    "deletable": false,
    "editable": false,
    "nbgrader": {
     "grade": true,
     "grade_id": "extract_actors_test",
     "locked": true,
     "points": 0,
     "schema_version": 1,
     "solution": false
    }
   },
   "outputs": [
    {
     "name": "stdout",
     "output_type": "stream",
     "text": [
      "adrian-pardo: https://api.github.com/users/adrian-pardo\n",
      "sirhugh15: https://api.github.com/users/sirhugh15\n",
      "thanig: https://api.github.com/users/thanig\n",
      "aelipinski: https://api.github.com/users/aelipinski\n",
      "SamDuan: https://api.github.com/users/SamDuan\n",
      "rvuduc: https://api.github.com/users/rvuduc\n",
      "wrudisi: https://api.github.com/users/wrudisi\n"
     ]
    }
   ],
   "source": [
    "actor_urls = extract_actors(response.json ())\n",
    "\n",
    "for actor, url in actor_urls.items ():\n",
    "    print ('{}: {}'.format(actor, url))\n",
    "    assert url == \"https://api.github.com/users/{}\".format(actor)"
   ]
  },
  {
   "cell_type": "markdown",
   "metadata": {
    "deletable": false,
    "editable": false,
    "nbgrader": {
     "grade": false,
     "grade_id": "cell-23355ce56dd4dcdc",
     "locked": true,
     "schema_version": 1,
     "solution": false
    }
   },
   "source": [
    "**Exercise 1.** Write some code that goes to each actor's URL and determines their name. If an actor URL is invalid, that actor should not appear in the output."
   ]
  },
  {
   "cell_type": "code",
   "execution_count": 6,
   "metadata": {
    "collapsed": true,
    "nbgrader": {
     "grade": false,
     "grade_id": "get_names",
     "locked": false,
     "schema_version": 1,
     "solution": true
    }
   },
   "outputs": [],
   "source": [
    "def lookup_names (actor_urls):\n",
    "    \"\"\"Given a dictionary of (actor, url) pairs, looks up the JSON at\n",
    "    the URL and extracts the user's name (if any). Returns a new\n",
    "    dictionary of (actor, name) pairs.\n",
    "    \"\"\"\n",
    "    ###\n",
    "    ### YOUR CODE HERE\n",
    "    ###\n",
    "    import re\n",
    "    \n",
    "    names = {}\n",
    "    for actor, url in actor_urls.items ():\n",
    "        response = requests.get (url)\n",
    "        \n",
    "        # Possible error conditions\n",
    "        if response is None: continue\n",
    "        if re.search ('application/json', response.headers['Content-Type']) is None: continue\n",
    "        if 'name' not in response.json (): continue\n",
    "            \n",
    "        names[actor] = response.json ()['name']\n",
    "    return names"
   ]
  },
  {
   "cell_type": "code",
   "execution_count": 7,
   "metadata": {
    "deletable": false,
    "editable": false,
    "nbgrader": {
     "grade": true,
     "grade_id": "get_names_test",
     "locked": true,
     "points": 0,
     "schema_version": 1,
     "solution": false
    }
   },
   "outputs": [
    {
     "name": "stdout",
     "output_type": "stream",
     "text": [
      "adrian-pardo: Adrian Pardo\n",
      "sirhugh15: None\n",
      "thanig: None\n",
      "aelipinski: OZ10\n",
      "SamDuan: Samuel Duan\n",
      "rvuduc: Rich Vuduc (personal account)\n",
      "wrudisi: None\n",
      "\n",
      "(Passed.)\n"
     ]
    }
   ],
   "source": [
    "actor_names = lookup_names (actor_urls)\n",
    "\n",
    "for actor, name in actor_names.items ():\n",
    "    print (\"{}: {}\".format (actor, name))\n",
    "\n",
    "assert actor_names['SamDuan'] == 'Samuel Duan'\n",
    "assert actor_names['aelipinski'] == 'OZ10'\n",
    "assert actor_names['rvuduc'] == 'Rich Vuduc (personal account)'\n",
    "\n",
    "print(\"\\n(Passed.)\")"
   ]
  },
  {
   "cell_type": "markdown",
   "metadata": {
    "deletable": false,
    "editable": false,
    "nbgrader": {
     "grade": false,
     "grade_id": "cell-ae7abfbce62b1cd6",
     "locked": true,
     "schema_version": 1,
     "solution": false
    }
   },
   "source": [
    "That's the end of this notebook. Processing JSON is fairly straightforward, because it maps very naturally to nested dictionaries in Python. You might search the web for other sources of JSON data, including [this one](https://www.yelp.com/dataset/challenge), and do your own processing!"
   ]
  }
 ],
 "metadata": {
  "celltoolbar": "Create Assignment",
  "kernelspec": {
   "display_name": "Python 3 [3.6]",
   "language": "python",
   "name": "python3"
  },
  "language_info": {
   "codemirror_mode": {
    "name": "ipython",
    "version": 3
   },
   "file_extension": ".py",
   "mimetype": "text/x-python",
   "name": "python",
   "nbconvert_exporter": "python",
   "pygments_lexer": "ipython3",
   "version": "3.6.4"
  }
 },
 "nbformat": 4,
 "nbformat_minor": 1
}
