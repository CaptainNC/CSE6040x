{
 "cells": [
  {
   "cell_type": "markdown",
   "metadata": {
    "deletable": false,
    "editable": false,
    "nbgrader": {
     "grade": false,
     "grade_id": "cell-68fd8fe196863861",
     "locked": true,
     "schema_version": 1,
     "solution": false
    }
   },
   "source": [
    "# Part 0 of 2: Simple string processing review"
   ]
  },
  {
   "cell_type": "code",
   "execution_count": 10,
   "metadata": {
    "collapsed": true
   },
   "outputs": [],
   "source": [
    "text = \"sgtEEEr2020.0\""
   ]
  },
  {
   "cell_type": "code",
   "execution_count": 11,
   "metadata": {},
   "outputs": [
    {
     "name": "stdout",
     "output_type": "stream",
     "text": [
      "1. False\n",
      "2. [True, True, True, True, True, True, True, False, False, False, False, False, False]\n"
     ]
    }
   ],
   "source": [
    "# Strings have methods for checking \"global\" string properties\n",
    "print(\"1.\", text.isalpha())\n",
    "\n",
    "# These can also be applied per character\n",
    "print(\"2.\", [c.isalpha() for c in text])"
   ]
  },
  {
   "cell_type": "code",
   "execution_count": 12,
   "metadata": {},
   "outputs": [
    {
     "name": "stdout",
     "output_type": "stream",
     "text": [
      "BELOW: (global) -> (per character)\n",
      "False --> [False, False, False, False, False, False, False, True, True, True, True, False, True]\n",
      "False --> [False, False, False, False, False, False, False, False, False, False, False, False, False]\n",
      "False --> [True, True, True, False, False, False, True, False, False, False, False, False, False]\n",
      "False --> [False, False, False, True, True, True, False, False, False, False, False, False, False]\n",
      "False --> [False, False, False, False, False, False, False, True, True, True, True, False, True]\n"
     ]
    }
   ],
   "source": [
    "# Here are a bunch of additional useful methods\n",
    "print(\"BELOW: (global) -> (per character)\")\n",
    "print(text.isdigit(), \"-->\", [c.isdigit() for c in text])\n",
    "print(text.isspace(), \"-->\", [c.isspace() for c in text])\n",
    "print(text.islower(), \"-->\", [c.islower() for c in text])\n",
    "print(text.isupper(), \"-->\", [c.isupper() for c in text])\n",
    "print(text.isnumeric(), \"-->\", [c.isnumeric() for c in text])"
   ]
  },
  {
   "cell_type": "markdown",
   "metadata": {
    "deletable": false,
    "editable": false,
    "nbgrader": {
     "grade": false,
     "grade_id": "cell-0a99319dc0dd5f6c",
     "locked": true,
     "schema_version": 1,
     "solution": false
    }
   },
   "source": [
    "**Exercise 0** (1 point). Create a new function that checks whether a given input string is a properly formatted social security number, i.e., has the pattern, `XXX-XX-XXXX`, _including_ the separator dashes, where each `X` is a digit. It should return `True` if so or `False` otherwise."
   ]
  },
  {
   "cell_type": "code",
   "execution_count": 13,
   "metadata": {
    "collapsed": true,
    "nbgrader": {
     "grade": false,
     "grade_id": "is_ssn",
     "locked": false,
     "schema_version": 1,
     "solution": true
    }
   },
   "outputs": [],
   "source": [
    "def is_ssn(s):\n",
    "    ###\n",
    "    ### YOUR CODE HERE\n",
    "    ###\n",
    "    ssn_parts = s.split('-')\n",
    "    correct_lens = [3, 2, 4]\n",
    "    if len(ssn_parts)!= len(correct_lens):\n",
    "        return False \n",
    "    for n, l in zip(ssn_parts, correct_lens):\n",
    "        if not(n.isdigit() and len(n) == l):\n",
    "            return False\n",
    "    return True"
   ]
  },
  {
   "cell_type": "code",
   "execution_count": 14,
   "metadata": {
    "collapsed": true
   },
   "outputs": [],
   "source": [
    "####################"
   ]
  },
  {
   "cell_type": "code",
   "execution_count": null,
   "metadata": {
    "collapsed": true
   },
   "outputs": [],
   "source": []
  },
  {
   "cell_type": "code",
   "execution_count": 15,
   "metadata": {
    "collapsed": true
   },
   "outputs": [],
   "source": [
    "####################"
   ]
  },
  {
   "cell_type": "code",
   "execution_count": 16,
   "metadata": {
    "deletable": false,
    "editable": false,
    "nbgrader": {
     "grade": true,
     "grade_id": "is_ssn_test",
     "locked": true,
     "points": 1,
     "schema_version": 1,
     "solution": false
    }
   },
   "outputs": [
    {
     "name": "stdout",
     "output_type": "stream",
     "text": [
      "\n",
      "(Passed!)\n"
     ]
    }
   ],
   "source": [
    "# Test cell: `is_snn_test`\n",
    "assert is_ssn('832-38-1847')\n",
    "assert not is_ssn('832 -38 -  1847')\n",
    "assert not is_ssn('832-bc-3847')\n",
    "assert not is_ssn('832381847')\n",
    "assert not is_ssn('8323-8-1847')\n",
    "assert not is_ssn('abc-de-ghij')\n",
    "print(\"\\n(Passed!)\")"
   ]
  },
  {
   "cell_type": "markdown",
   "metadata": {},
   "source": [
    "# Regular expressions\n",
    "\n",
    "Exercise 0 hints at the general problem of finding patterns in text. A handy tool for this problem is Python's Regular Expression module, `re`.\n",
    "\n",
    "A _regular expression_ is a specially formatted pattern, written as a string. Matching patterns with regular expressions has 3 steps:\n",
    "\n",
    "1. You come up with a pattern to find.\n",
    "2. You compile it into a _pattern object_.\n",
    "3. You apply the pattern object to a string to find _matches_, i.e., instances of the pattern within the string.\n",
    "\n",
    "As you read through the examples below, refer also to the [regular expression HOWTO document](https://docs.python.org/3/howto/regex.html) for many more examples and details."
   ]
  },
  {
   "cell_type": "code",
   "execution_count": 17,
   "metadata": {
    "collapsed": true
   },
   "outputs": [],
   "source": [
    "import re"
   ]
  },
  {
   "cell_type": "code",
   "execution_count": 18,
   "metadata": {},
   "outputs": [
    {
     "ename": "NameError",
     "evalue": "name 'pattern' is not defined",
     "output_type": "error",
     "traceback": [
      "\u001b[0;31m---------------------------------------------------------------------------\u001b[0m",
      "\u001b[0;31mNameError\u001b[0m                                 Traceback (most recent call last)",
      "\u001b[0;32m<ipython-input-18-0e6f30301e86>\u001b[0m in \u001b[0;36m<module>\u001b[0;34m()\u001b[0m\n\u001b[0;32m----> 1\u001b[0;31m \u001b[0mpattern_object\u001b[0m \u001b[0;34m=\u001b[0m \u001b[0mre\u001b[0m\u001b[0;34m.\u001b[0m\u001b[0mcompile\u001b[0m\u001b[0;34m(\u001b[0m\u001b[0mpattern\u001b[0m\u001b[0;34m)\u001b[0m\u001b[0;34m\u001b[0m\u001b[0m\n\u001b[0m\u001b[1;32m      2\u001b[0m \u001b[0mmatches\u001b[0m \u001b[0;34m=\u001b[0m \u001b[0mpattern_object\u001b[0m\u001b[0;34m.\u001b[0m\u001b[0msearch\u001b[0m\u001b[0;34m(\u001b[0m\u001b[0minput\u001b[0m\u001b[0;34m)\u001b[0m\u001b[0;34m\u001b[0m\u001b[0m\n",
      "\u001b[0;31mNameError\u001b[0m: name 'pattern' is not defined"
     ]
    }
   ],
   "source": [
    "pattern_object = re.compile(pattern)\n",
    "matches = pattern_object.search(input)"
   ]
  },
  {
   "cell_type": "markdown",
   "metadata": {
    "deletable": false,
    "editable": false,
    "nbgrader": {
     "grade": false,
     "grade_id": "cell-c953dd7aa8b5f9a5",
     "locked": true,
     "schema_version": 1,
     "solution": false
    }
   },
   "source": [
    "## Basics\n",
    "\n",
    "Let's see how this scheme works for the simplest case, in which the pattern is an *exact substring*. In the following example, suppose want to look for the substring `'fox'` within a larger input string."
   ]
  },
  {
   "cell_type": "code",
   "execution_count": 19,
   "metadata": {},
   "outputs": [
    {
     "name": "stdout",
     "output_type": "stream",
     "text": [
      "<_sre.SRE_Match object; span=(16, 19), match='fox'>\n"
     ]
    }
   ],
   "source": [
    "pattern = 'fox'\n",
    "pattern_matcher = re.compile(pattern)\n",
    "\n",
    "input_string = 'The quick brown fox jumps over the lazy dog'\n",
    "matches = pattern_matcher.search(input_string)\n",
    "print(matches)"
   ]
  },
  {
   "cell_type": "markdown",
   "metadata": {},
   "source": [
    "Observe that the returned object, `matches`, is a special object. Inspecting the printed output, notice that the matching text, `'fox'`, was found and located at positions 16-18 of the `input_string`. Had there been no matches, then `.search()` would have returned `None`, as in this example:"
   ]
  },
  {
   "cell_type": "code",
   "execution_count": 20,
   "metadata": {},
   "outputs": [
    {
     "name": "stdout",
     "output_type": "stream",
     "text": [
      "None\n"
     ]
    }
   ],
   "source": [
    "print(pattern_matcher.search(\"This input has a FOX, but it's all uppercase and so won't match.\"))"
   ]
  },
  {
   "cell_type": "markdown",
   "metadata": {},
   "source": [
    "You can also write code to query the `matches` object for more information."
   ]
  },
  {
   "cell_type": "code",
   "execution_count": 21,
   "metadata": {},
   "outputs": [
    {
     "name": "stdout",
     "output_type": "stream",
     "text": [
      "fox\n",
      "16\n",
      "19\n",
      "(16, 19)\n"
     ]
    }
   ],
   "source": [
    "print(matches.group())\n",
    "print(matches.start())\n",
    "print(matches.end())\n",
    "print(matches.span())"
   ]
  },
  {
   "cell_type": "markdown",
   "metadata": {},
   "source": [
    "**Module-level searching.** For infrequently used patterns, you can also skip creating the pattern object and just call the module-level search function, `re.search()`."
   ]
  },
  {
   "cell_type": "code",
   "execution_count": 22,
   "metadata": {
    "scrolled": true
   },
   "outputs": [
    {
     "name": "stdout",
     "output_type": "stream",
     "text": [
      "Found jump @ (20, 24)\n"
     ]
    }
   ],
   "source": [
    "matches_2 = re.search('jump', input_string)\n",
    "assert matches_2 is not None\n",
    "print (\"Found\", matches_2.group(), \"@\", matches_2.span())"
   ]
  },
  {
   "cell_type": "markdown",
   "metadata": {},
   "source": [
    "**Other Search Methods.** Besides `search()`, there are several other pattern-matching procedures:\n",
    "\n",
    "1. `match()`    - Determine if the regular expression (RE) matches at the beginning of the string.\n",
    "2. `search()`   - Scan through a string, looking for any location where this RE matches.\n",
    "3. `findall()`  - Find all substrings where the RE matches, and returns them as a list.\n",
    "4. `finditer()` - Find all substrings where the RE matches, and returns them as an iterator.\n",
    "\n",
    "We'll use several of these below; again, refer to the [HOWTO](https://docs.python.org/3/howto/regex.html) for more details."
   ]
  },
  {
   "cell_type": "markdown",
   "metadata": {},
   "source": [
    "## A pattern language\n",
    "\n",
    "An exact substring is one kind of pattern, but the power of regular expressions is that it provides an entire \"_mini-language_\" for specifying more general patterns.\n",
    "\n",
    "To start, read the section of the HOWTO on [\"Simple Patterns\"](https://docs.python.org/3/howto/regex.html#simple-patterns). We highlight a few constructs below."
   ]
  },
  {
   "cell_type": "code",
   "execution_count": 23,
   "metadata": {},
   "outputs": [
    {
     "name": "stdout",
     "output_type": "stream",
     "text": [
      "Scanning `The quick brown fox jumps over the lazy dog` for vowels, `[aeiou]`:\n",
      "<_sre.SRE_Match object; span=(2, 3), match='e'>\n",
      "<_sre.SRE_Match object; span=(5, 6), match='u'>\n",
      "<_sre.SRE_Match object; span=(6, 7), match='i'>\n",
      "<_sre.SRE_Match object; span=(12, 13), match='o'>\n",
      "<_sre.SRE_Match object; span=(17, 18), match='o'>\n",
      "<_sre.SRE_Match object; span=(21, 22), match='u'>\n",
      "<_sre.SRE_Match object; span=(26, 27), match='o'>\n",
      "<_sre.SRE_Match object; span=(28, 29), match='e'>\n",
      "<_sre.SRE_Match object; span=(33, 34), match='e'>\n",
      "<_sre.SRE_Match object; span=(36, 37), match='a'>\n",
      "<_sre.SRE_Match object; span=(41, 42), match='o'>\n"
     ]
    }
   ],
   "source": [
    "# Metacharacter classes\n",
    "vowels = '[aeiou]'\n",
    "\n",
    "print(f\"Scanning `{input_string}` for vowels, `{vowels}`:\")\n",
    "for match_vowel in re.finditer(vowels, input_string):\n",
    "    print(match_vowel)"
   ]
  },
  {
   "cell_type": "code",
   "execution_count": 24,
   "metadata": {},
   "outputs": [
    {
     "name": "stdout",
     "output_type": "stream",
     "text": [
      "Pattern: [aeiou]{2,}\n",
      "['ui']\n"
     ]
    }
   ],
   "source": [
    "# Counts: For instance, two or more consecutive vowels:\n",
    "two_or_more_vowels = vowels + '{2,}'\n",
    "print(f\"Pattern: {two_or_more_vowels}\")\n",
    "print(re.findall(two_or_more_vowels, input_string))"
   ]
  },
  {
   "cell_type": "code",
   "execution_count": 25,
   "metadata": {},
   "outputs": [
    {
     "name": "stdout",
     "output_type": "stream",
     "text": [
      "None\n",
      "<_sre.SRE_Match object; span=(15, 18), match='cat'>\n",
      "<_sre.SRE_Match object; span=(14, 21), match='caaaaat'>\n"
     ]
    }
   ],
   "source": [
    "# Wildcards\n",
    "cats = \"ca+t\"\n",
    "print(re.search(cats, \"is this a ct?\"))\n",
    "print(re.search(cats, \"how about this cat?\"))\n",
    "print(re.search(cats, \"and this one: caaaaat, yes or no?\"))"
   ]
  },
  {
   "cell_type": "code",
   "execution_count": 26,
   "metadata": {},
   "outputs": [
    {
     "name": "stdout",
     "output_type": "stream",
     "text": [
      "Scanning `The quick brown fox jumps over the lazy dog` for adjectives, `lazy|brown`:\n",
      "<_sre.SRE_Match object; span=(10, 15), match='brown'>\n",
      "<_sre.SRE_Match object; span=(35, 39), match='lazy'>\n"
     ]
    }
   ],
   "source": [
    "# Special operator: \"or\"\n",
    "adjectives = \"lazy|brown\"\n",
    "print(f\"Scanning `{input_string}` for adjectives, `{adjectives}`:\")\n",
    "for match_adjective in re.finditer(adjectives, input_string):\n",
    "    print(match_adjective)"
   ]
  },
  {
   "cell_type": "code",
   "execution_count": 27,
   "metadata": {},
   "outputs": [
    {
     "name": "stdout",
     "output_type": "stream",
     "text": [
      "['555', '123', '456']\n"
     ]
    }
   ],
   "source": [
    "# Predefined character classes\n",
    "three_digits = '\\d\\d\\d'\n",
    "print(re.findall(three_digits, \"My number is 555-123-4567\"))"
   ]
  },
  {
   "cell_type": "markdown",
   "metadata": {},
   "source": [
    "> In the previous example, notice that the pattern search proceeds from left-to-right and does not return overlaps: here, the matcher returns `456` but not `567`. In fact, this case is an instance of the default [_greedy behavior_](https://docs.python.org/3/howto/regex.html#greedy-versus-non-greedy) of the matcher."
   ]
  },
  {
   "cell_type": "markdown",
   "metadata": {},
   "source": [
    "**The backslash plague.** In the \"three-digits\" example, we used the predefined metacharacter class, `'\\d'`, to match slashes. But what if you want to match a _literal_ slash? The HOWTO describes how things can get out of control in its subsection on [\"The Backslash Plague\"](https://docs.python.org/3/howto/regex.html#the-backslash-plague), which occurs because the Python interpreter processes backslashes in string literals (e.g., so that `\\t` expands to a tab character and `\\n` to a newline) while the regular expression processor also gives backslashes meaning (e.g., so that `\\d` is a digit metaclass).\n",
    "\n",
    "For example, suppose you want to look for the text string, `\\section`, in some input string. Which of the following will match it? Recall that `\\s` is a predefined metacharacter class that matches any whitespace character."
   ]
  },
  {
   "cell_type": "code",
   "execution_count": 28,
   "metadata": {},
   "outputs": [
    {
     "name": "stdout",
     "output_type": "stream",
     "text": [
      "Searching: This string contains `\\section`, which we would like to match.\n",
      "None\n",
      "None\n",
      "<_sre.SRE_Match object; span=(22, 30), match='\\\\section'>\n"
     ]
    }
   ],
   "source": [
    "input_with_slash_section = \"This string contains `\\section`, which we would like to match.\"\n",
    "\n",
    "print(f\"Searching: {input_with_slash_section}\")\n",
    "\n",
    "print(re.search(\"\\section\", input_with_slash_section))\n",
    "print(re.search(\"\\\\section\", input_with_slash_section))\n",
    "print(re.search(\"\\\\\\\\section\", input_with_slash_section))"
   ]
  },
  {
   "cell_type": "markdown",
   "metadata": {},
   "source": [
    "To help mitigate this case, Python provides a special type of string called a _raw string_, which is a string literal prefixed by the letter `r`. For such strings, the Python interpreter will not process the backslash.\n",
    "\n",
    "> Although the interpreter won't process the backslash, the regular expression processor will do so. As such, the pattern string still needs _two_ slashes, as shown below."
   ]
  },
  {
   "cell_type": "code",
   "execution_count": 29,
   "metadata": {},
   "outputs": [
    {
     "name": "stdout",
     "output_type": "stream",
     "text": [
      "None\n",
      "<_sre.SRE_Match object; span=(22, 30), match='\\\\section'>\n",
      "None\n"
     ]
    }
   ],
   "source": [
    "print(re.search(r\"\\section\", input_with_slash_section))\n",
    "print(re.search(r\"\\\\section\", input_with_slash_section))\n",
    "print(re.search(r\"\\\\\\\\section\", input_with_slash_section))"
   ]
  },
  {
   "cell_type": "markdown",
   "metadata": {},
   "source": [
    "Indeed, it is common style to always use raw strings for regular expression patterns, as we'll do in the examples that follow."
   ]
  },
  {
   "cell_type": "markdown",
   "metadata": {},
   "source": [
    "**Creating pattern groups.** Another handy construct are [_pattern groups_](https://docs.python.org/3/howto/regex.html#grouping), as we show in the next code cell.\n",
    "\n",
    "Suppose we have a string that we know contains a name of the form, \"(first) (middle) (last)\", where the middle name is _optional_. We can use pattern groups to isolate each component of the name and tag the middle name as optional using the \"zero-or-one\" metacharacter, `'?'`.\n",
    "\n",
    "The group itself is a subpattern enclosed within parentheses. When a match is found, we can extract the groups by calling `.groups()` on the match object, which returns a tuple of all matched groups.\n",
    "\n",
    "> To make this pattern more readable, we have also used Python's multiline string literal combined with the [`re.VERBOSE` option](https://docs.python.org/2/library/re.html#re.VERBOSE), which then allows us to include whitespace and comments as part of the pattern string."
   ]
  },
  {
   "cell_type": "code",
   "execution_count": 30,
   "metadata": {},
   "outputs": [
    {
     "name": "stdout",
     "output_type": "stream",
     "text": [
      "('Rich', None, 'Vuduc')\n",
      "('Rich', 'S ', 'Vuduc')\n",
      "('Rich', 'Salamander ', 'Vuduc')\n"
     ]
    }
   ],
   "source": [
    "# Make the expression more readable with a re.VERBOSE pattern\n",
    "re_names2 = re.compile(r'''^              # Beginning of string\n",
    "                           ([a-zA-Z]+)    # First name\n",
    "                           \\s+            # At least one space\n",
    "                           ([a-zA-Z]+\\s)? # Optional middle name\n",
    "                           ([a-zA-Z]+)    # Last name\n",
    "                           $              # End of string\n",
    "                        ''',\n",
    "                        re.VERBOSE)\n",
    "print(re_names2.match('Rich Vuduc').groups())\n",
    "print(re_names2.match('Rich S Vuduc').groups())\n",
    "print(re_names2.match('Rich Salamander Vuduc').groups())"
   ]
  },
  {
   "cell_type": "markdown",
   "metadata": {},
   "source": [
    "**Tagging pattern groups.** You can also name pattern groups, which helps make your extraction code a bit more readable."
   ]
  },
  {
   "cell_type": "code",
   "execution_count": 31,
   "metadata": {},
   "outputs": [
    {
     "name": "stdout",
     "output_type": "stream",
     "text": [
      "Rich\n",
      "S \n",
      "Vuduc\n"
     ]
    }
   ],
   "source": [
    "# Named groups\n",
    "re_names3 = re.compile(r'''^\n",
    "                           (?P<first>[a-zA-Z]+)\n",
    "                           \\s\n",
    "                           (?P<middle>[a-zA-Z]+\\s)?\n",
    "                           \\s*\n",
    "                           (?P<last>[a-zA-Z]+)\n",
    "                           $\n",
    "                        ''',\n",
    "                        re.VERBOSE)\n",
    "print(re_names3.match('Rich Vuduc').group('first'))\n",
    "print(re_names3.match('Rich S Vuduc').group('middle'))\n",
    "print(re_names3.match('Rich Salamander Vuduc').group('last'))"
   ]
  },
  {
   "cell_type": "markdown",
   "metadata": {},
   "source": [
    "**A regular expression debugger.** Regular expressions can be tough to write and debug, but thankfully, there are several online tools to help! See, for instance, [pythex](https://pythex.org/), [regexr](https://regexr.com/), or [regex101](https://regex101.com/). These all allow you to supply some sample input text and test what your pattern does in real time."
   ]
  },
  {
   "cell_type": "markdown",
   "metadata": {},
   "source": [
    "## Email addresses\n",
    "\n",
    "In the next exercise, you'll apply what you've read and learned about regular expressions to build a pattern matcher for email addresses. Again, if you haven't looked through the HOWTO yet, take a moment to do that!\n",
    "\n",
    "Although there is a [formal specification of what constitutes a valid email address](https://tools.ietf.org/html/rfc5322#section-3.4.1), for this exercise, let's use the following simplified rules.\n",
    "\n",
    "* We will restrict our attention to ASCII addresses and ignore Unicode. If you don't know what that means, don't worry about it---you shouldn't need to do anything special given our code templates, below.\n",
    "* An email address has two parts, the username and the domain name. These are separated by an `@` character.\n",
    "* A username **must begin with an alphabetic** character. It may be followed by any number of additional _alphanumeric_ characters or any of the following special characters: `.` (period), `-` (hyphen), `_` (underscore), or `+` (plus).\n",
    "* A domain name **must end with an alphabetic** character. It may consist of any of the following characters: alphanumeric characters, `.` (period), `-` (hyphen), or `_` (underscore).\n",
    "* Alphabetic characters may be uppercase or lowercase.\n",
    "* No whitespace characters are allowed.\n",
    "\n",
    "Valid domain names usually have additional restrictions, e.g., there are a limited number of endings, such as `.com`, `.edu`, and so on. However, for this exercise you may ignore this fact."
   ]
  },
  {
   "cell_type": "markdown",
   "metadata": {
    "deletable": false,
    "editable": false,
    "nbgrader": {
     "grade": false,
     "grade_id": "cell-bccd5fe8a605f83c",
     "locked": true,
     "schema_version": 1,
     "solution": false
    }
   },
   "source": [
    "**Exercise 1** (2 points). Write a function `parse_email` that, given an email address `s`, returns a tuple, `(user-id, domain)` corresponding to the user name and domain name.\n",
    "\n",
    "For instance, given `richie@cc.gatech.edu` it should return `('richie', 'cc.gatech.edu')`.\n",
    "\n",
    "Your function should parse the email only if it exactly matches the email specification. For example, if there are leading or trailing spaces, the function should *not* match those. See the test cases for examples.\n",
    "\n",
    "If the input is not a valid email address, the function should raise a `ValueError`.\n",
    "\n",
    "> The requirement, \"raise a `ValueError`\" refers to a technique for handling errors in a program known as _exception handling_. The Python documentation covers [exceptions](https://docs.python.org/3/tutorial/errors.html) in more detail, including [raising `ValueError` objects](https://docs.python.org/3/tutorial/errors.html#raising-exceptions)."
   ]
  },
  {
   "cell_type": "code",
   "execution_count": 32,
   "metadata": {
    "collapsed": true
   },
   "outputs": [],
   "source": [
    "###############"
   ]
  },
  {
   "cell_type": "code",
   "execution_count": 33,
   "metadata": {
    "collapsed": true,
    "nbgrader": {
     "grade": false,
     "grade_id": "parse_email",
     "locked": false,
     "schema_version": 1,
     "solution": true
    }
   },
   "outputs": [],
   "source": [
    "def parse_email (s):\n",
    "    \"\"\"Parses a string as an email address, returning an (id, domain) pair.\"\"\"\n",
    "    ###\n",
    "    ### YOUR CODE HERE\n",
    "    ###\n",
    "    emailRegex = re.compile (r'''^\n",
    "                            ([A-Za-z]+[A-Za-z\\.\\-\\_\\+]+)   #user_id\n",
    "                            ([@]+)                         #@\n",
    "                            ([A-Za-z\\.\\-\\_]+[A-Za-z]+)     #domain\n",
    "                            $''',\n",
    "                            re.VERBOSE)\n",
    "    mo = (emailRegex.match(s))\n",
    "    try:\n",
    "        return (mo.groups()[0], mo.groups()[2])\n",
    "    except AttributeError:\n",
    "        raise ValueError\n",
    "#        print('Not a valid email. Please try again.')\n",
    "#    except ValueError:\n",
    "#        print('Not a valid email. Please try again.')\n",
    "        "
   ]
  },
  {
   "cell_type": "code",
   "execution_count": 34,
   "metadata": {
    "collapsed": true
   },
   "outputs": [],
   "source": [
    "#parse_email('bertha_hugely@sampson.edu')\n",
    "#parse_email('x @hpcgarage.org')\n",
    "#parse_email('what-do-you-know+not-much@gmail.com')\n",
    "#parse_email('4test@gmail.com')"
   ]
  },
  {
   "cell_type": "code",
   "execution_count": 35,
   "metadata": {
    "collapsed": true
   },
   "outputs": [],
   "source": [
    "###########################"
   ]
  },
  {
   "cell_type": "code",
   "execution_count": 36,
   "metadata": {},
   "outputs": [
    {
     "name": "stdout",
     "output_type": "stream",
     "text": [
      "('Rich', None, 'Vuduc')\n"
     ]
    }
   ],
   "source": [
    "re_names2 = re.compile(r'''^              # Beginning of string\n",
    "                           ([a-zA-Z]+)    # First name\n",
    "                           \\s+            # At least one space\n",
    "                           ([a-zA-Z]+\\s)? # Optional middle name\n",
    "                           ([a-zA-Z]+)    # Last name\n",
    "                           $              # End of string\n",
    "                        ''',\n",
    "                        re.VERBOSE)\n",
    "print(re_names2.match('Rich Vuduc').groups())"
   ]
  },
  {
   "cell_type": "code",
   "execution_count": 37,
   "metadata": {},
   "outputs": [
    {
     "name": "stdout",
     "output_type": "stream",
     "text": [
      "math is good\n"
     ]
    }
   ],
   "source": [
    "a = 2\n",
    "b = 2\n",
    "\n",
    "try:\n",
    "    a + b == 3\n",
    "    if True:\n",
    "        print('math is good')\n",
    "except ValueError:\n",
    "    print('not valid number')\n"
   ]
  },
  {
   "cell_type": "code",
   "execution_count": 38,
   "metadata": {
    "collapsed": true
   },
   "outputs": [],
   "source": [
    "###########################"
   ]
  },
  {
   "cell_type": "code",
   "execution_count": 39,
   "metadata": {
    "deletable": false,
    "editable": false,
    "nbgrader": {
     "grade": true,
     "grade_id": "parse_email_test",
     "locked": true,
     "points": 2,
     "schema_version": 1,
     "solution": false
    }
   },
   "outputs": [
    {
     "name": "stdout",
     "output_type": "stream",
     "text": [
      "Testing valid email: 'richie@cc.gatech.edu'\n",
      "Testing valid email: 'bertha_hugely@sampson.edu'\n",
      "Testing valid email: 'JKRowling@Huge-Books.org'\n",
      "Testing valid email: 'what-do-you-know+not-much@gmail.com'\n",
      "Testing invalid email: 'x @hpcgarage.org'\n",
      "==> Correctly throws an exception!\n",
      "Testing invalid email: '   quiggy.smith38x@gmail.com'\n",
      "==> Correctly throws an exception!\n",
      "Testing invalid email: 'richie@cc.gatech.edu  '\n",
      "==> Correctly throws an exception!\n",
      "Testing invalid email: '4test@gmail.com'\n",
      "==> Correctly throws an exception!\n",
      "Testing invalid email: 'richie@cc.gatech.edu7'\n",
      "==> Correctly throws an exception!\n"
     ]
    }
   ],
   "source": [
    "# Test cell: `parse_email_test`\n",
    "\n",
    "def pass_case(u, d):\n",
    "    s = u + '@' + d\n",
    "    msg = \"Testing valid email: '{}'\".format(s)\n",
    "    print(msg)\n",
    "    assert parse_email(s) == (u, d), msg\n",
    "    \n",
    "pass_case('richie', 'cc.gatech.edu')\n",
    "pass_case('bertha_hugely', 'sampson.edu')\n",
    "pass_case('JKRowling', 'Huge-Books.org')\n",
    "pass_case('what-do-you-know+not-much', 'gmail.com')\n",
    "\n",
    "def fail_case(s):\n",
    "    msg = \"Testing invalid email: '{}'\".format(s)\n",
    "    print(msg)\n",
    "    try:\n",
    "        parse_email(s)\n",
    "    except ValueError:\n",
    "        print(\"==> Correctly throws an exception!\")\n",
    "    else:\n",
    "        raise AssertionError(\"Should have, but did not, throw an exception!\")\n",
    "        \n",
    "fail_case('x @hpcgarage.org')\n",
    "fail_case('   quiggy.smith38x@gmail.com')\n",
    "fail_case('richie@cc.gatech.edu  ')\n",
    "fail_case('4test@gmail.com')\n",
    "fail_case('richie@cc.gatech.edu7')"
   ]
  },
  {
   "cell_type": "markdown",
   "metadata": {},
   "source": [
    "## Phone numbers"
   ]
  },
  {
   "cell_type": "markdown",
   "metadata": {
    "deletable": false,
    "editable": false,
    "nbgrader": {
     "grade": false,
     "grade_id": "cell-a0c6c3084205c049",
     "locked": true,
     "schema_version": 1,
     "solution": false
    }
   },
   "source": [
    "**Exercise 2** (2 points). Write a function to parse US phone numbers written in the canonical \"(404) 555-1212\" format, i.e., a three-digit area code enclosed in parentheses followed by a seven-digit local number in three-hyphen-four digit format. It should also **ignore** all leading and trailing spaces, as well as any spaces that appear between the area code and local numbers. However, it should **not** accept any spaces in the area code (e.g., in '(404)') nor should it in the seven-digit local number.\n",
    "\n",
    "For example, these would be considered valid phone number strings:\n",
    "```python\n",
    "    '(404) 121-2121'\n",
    "    '(404)121-2121     '\n",
    "    '   (404)      121-2121'\n",
    "```\n",
    "\n",
    "By contrast, these should be rejected:\n",
    "```python\n",
    "    '404-121-2121'\n",
    "    '(404)555 -1212'\n",
    "    ' ( 404)121-2121'\n",
    "    '(abc) 555-12i2'\n",
    "```\n",
    "\n",
    "It should return a triple of strings, `(area_code, first_three, last_four)`. \n",
    "\n",
    "If the input is not a valid phone number, it should raise a `ValueError`."
   ]
  },
  {
   "cell_type": "code",
   "execution_count": 40,
   "metadata": {
    "collapsed": true,
    "nbgrader": {
     "grade": false,
     "grade_id": "parse_phone1",
     "locked": false,
     "schema_version": 1,
     "solution": true
    }
   },
   "outputs": [],
   "source": [
    "def parse_phone1 (s):\n",
    "    ###\n",
    "    ### YOUR CODE HERE\n",
    "    ###\n",
    "#area\n",
    "#pref\n",
    "#line\n",
    "\n",
    "    phoneRegex = re.compile(r'''\n",
    "                     \\s*\\(          #1st_par\n",
    "                     (\\d{3})        #area\n",
    "                     \\)\\s*          #2bd_par\n",
    "                     (\\d{3})        #pref\n",
    "                     \\-             #sep\n",
    "                     (\\d{4})\\s*     #line\n",
    "                     $''',\n",
    "                    re.VERBOSE)\n",
    "\n",
    "    mo = (phoneRegex.match(s))\n",
    "    try:\n",
    "        return (mo.groups()[0], mo.groups()[1], mo.groups()[2])\n",
    "    except AttributeError:\n",
    "        raise ValueError"
   ]
  },
  {
   "cell_type": "code",
   "execution_count": 41,
   "metadata": {
    "collapsed": true
   },
   "outputs": [],
   "source": [
    "########################"
   ]
  },
  {
   "cell_type": "code",
   "execution_count": 42,
   "metadata": {},
   "outputs": [
    {
     "data": {
      "text/plain": [
       "('404', '121', '2121')"
      ]
     },
     "execution_count": 42,
     "metadata": {},
     "output_type": "execute_result"
    }
   ],
   "source": [
    "parse_phone1('  (404) 121-2121   ')"
   ]
  },
  {
   "cell_type": "code",
   "execution_count": 43,
   "metadata": {
    "collapsed": true
   },
   "outputs": [],
   "source": [
    "########################"
   ]
  },
  {
   "cell_type": "code",
   "execution_count": 44,
   "metadata": {
    "deletable": false,
    "editable": false,
    "nbgrader": {
     "grade": true,
     "grade_id": "parse_phone1_test",
     "locked": true,
     "points": 2,
     "schema_version": 1,
     "solution": false
    }
   },
   "outputs": [
    {
     "name": "stdout",
     "output_type": "stream",
     "text": [
      "Should pass: '(404) 121-2121'\n",
      "Should pass: '(404)121-2121'\n",
      "Should pass: '   (404) 121-2121'\n",
      "Should pass: ' (404)121-2121    '\n",
      "Should pass: '(162) 665-0131   '\n",
      "Should pass: '  (780)  757-7735'\n",
      "Should pass: '    (599) 499-2578   '\n",
      "Should pass: ' (396)   579-2205 '\n",
      "Should pass: '    (740)     046-8551'\n",
      "Should fail: '404-121-2121'\n",
      "==> Correctly throws an exception.\n",
      "Should fail: '(404)555 -1212'\n",
      "==> Correctly throws an exception.\n",
      "Should fail: ' ( 404)121-2121'\n",
      "==> Correctly throws an exception.\n",
      "Should fail: '(abc) 555-1212'\n",
      "==> Correctly throws an exception.\n",
      "Should fail: '(678) 555-12i2'\n",
      "==> Correctly throws an exception.\n"
     ]
    }
   ],
   "source": [
    "# Test cell: `parse_phone1_test`\n",
    "\n",
    "def rand_spaces(m=5):\n",
    "    from random import randint\n",
    "    return ' ' * randint(0, m)\n",
    "\n",
    "def asm_phone(a, l, r):\n",
    "    return rand_spaces() + '(' + a + ')' + rand_spaces() + l + '-' + r + rand_spaces()\n",
    "\n",
    "def gen_digits(k):\n",
    "    from random import choice # 3.5 compatible; 3.6 has `choices()`\n",
    "    DIGITS = '0123456789'\n",
    "    return ''.join([choice(DIGITS) for _ in range(k)])\n",
    "\n",
    "def pass_phone(p=None, a=None, l=None, r=None):\n",
    "    if p is None:\n",
    "        a = gen_digits(3)\n",
    "        l = gen_digits(3)\n",
    "        r = gen_digits(4)\n",
    "        p = asm_phone(a, l, r)\n",
    "    else:\n",
    "        assert a is not None and l is not None and r is not None, \"Need to supply sample solution.\"\n",
    "    msg = \"Should pass: '{}'\".format(p)\n",
    "    print(msg)\n",
    "    p_you = parse_phone1(p)\n",
    "    assert p_you == (a, l, r), \"Got {} instead of ('{}', '{}', '{}')\".format(p_you, a, l, r)\n",
    "    \n",
    "def fail_phone(s):\n",
    "    msg = \"Should fail: '{}'\".format(s)\n",
    "    print(msg)\n",
    "    try:\n",
    "        p_you = parse_phone1(s)\n",
    "    except ValueError:\n",
    "        print(\"==> Correctly throws an exception.\")\n",
    "    else:\n",
    "        raise AssertionError(\"Failed to throw a `ValueError` exception!\")\n",
    "\n",
    "\n",
    "# Cases that should definitely pass:\n",
    "pass_phone('(404) 121-2121', '404', '121', '2121')\n",
    "pass_phone('(404)121-2121', '404', '121', '2121')\n",
    "pass_phone('   (404) 121-2121', '404', '121', '2121')\n",
    "pass_phone(' (404)121-2121    ', '404', '121', '2121')\n",
    "for _ in range(5):\n",
    "    pass_phone()\n",
    "    \n",
    "fail_phone(\"404-121-2121\")\n",
    "fail_phone('(404)555 -1212')\n",
    "fail_phone(\" ( 404)121-2121\")\n",
    "fail_phone(\"(abc) 555-1212\")\n",
    "fail_phone(\"(678) 555-12i2\")"
   ]
  },
  {
   "cell_type": "markdown",
   "metadata": {
    "deletable": false,
    "editable": false,
    "nbgrader": {
     "grade": false,
     "grade_id": "cell-92b8099165470979",
     "locked": true,
     "schema_version": 1,
     "solution": false
    }
   },
   "source": [
    "**Exercise 3** (3 points). Implement an enhanced phone number parser that can handle any of these patterns.\n",
    "\n",
    "* (404) 555-1212\n",
    "* (404) 5551212\n",
    "* 404-555-1212\n",
    "* 404-5551212\n",
    "* 404555-1212\n",
    "* 4045551212\n",
    "\n",
    "As before, it should not be sensitive to leading or trailing spaces. Also, for the patterns in which the area code is enclosed in parentheses, it should not be sensitive to the number of spaces separating the area code from the remainder of the number."
   ]
  },
  {
   "cell_type": "code",
   "execution_count": 45,
   "metadata": {
    "collapsed": true
   },
   "outputs": [],
   "source": [
    "import re"
   ]
  },
  {
   "cell_type": "code",
   "execution_count": 46,
   "metadata": {
    "collapsed": true
   },
   "outputs": [],
   "source": [
    "def parse_phone2 (s):\n",
    "    #phone2Regex = re.compile('\\s*(?P<area>\\d{3})\\s*\\-?(?P<pref>\\d{3})\\-?(?P<line>\\d{4})')\n",
    "    #phone2Regex = re.compile('\\s*\\((?P<area>\\d{3})\\)\\s(?P<pref>\\d{3})\\-?(?P<line>\\d{4})')\n",
    "    s = s.strip()\n",
    "    if s[0] == '+':\n",
    "        raise ValueError\n",
    "    elif s[-5] == '-' and s[3] == ' ':\n",
    "        raise ValueError\n",
    "    elif s[0] == '(':\n",
    "        phone2Regex = re.compile('\\s*\\((?P<area>\\d{3})\\)\\s*?(?P<pref>\\d{3})\\-?(?P<line>\\d{4})') #parenth number\n",
    "        mo = phone2Regex.match(s)\n",
    "        try:\n",
    "            return(mo.groups())\n",
    "        except AttributeError:\n",
    "            raise ValueError\n",
    "\n",
    "\n",
    "    #    print(mo.groups())\n",
    "    elif s[0] != '(':\n",
    "        phone2Regex = re.compile('\\s*(?P<area1>\\d{3})\\s*\\-?(?P<pref1>\\d{3})\\-?(?P<line1>\\d{4})') #dash number\n",
    "        mo = (phone2Regex.match(s))\n",
    "        try:\n",
    "            return(mo.groups())\n",
    "        except AttributeError:\n",
    "            raise ValueError\n",
    "        #print(mo.groups())\n",
    "    "
   ]
  },
  {
   "cell_type": "code",
   "execution_count": 47,
   "metadata": {},
   "outputs": [
    {
     "name": "stdout",
     "output_type": "stream",
     "text": [
      "404 555-3355\n"
     ]
    }
   ],
   "source": [
    "s='404 555-3355'\n",
    "s = s.lstrip()\n",
    "s = s.rstrip()\n",
    "print(s)\n",
    "if s[0] == '+':\n",
    "    print('ValueError')"
   ]
  },
  {
   "cell_type": "code",
   "execution_count": 48,
   "metadata": {},
   "outputs": [
    {
     "ename": "NameError",
     "evalue": "name 'pass_phone2' is not defined",
     "output_type": "error",
     "traceback": [
      "\u001b[0;31m---------------------------------------------------------------------------\u001b[0m",
      "\u001b[0;31mNameError\u001b[0m                                 Traceback (most recent call last)",
      "\u001b[0;32m<ipython-input-48-d60e22a1c6b1>\u001b[0m in \u001b[0;36m<module>\u001b[0;34m()\u001b[0m\n\u001b[1;32m      5\u001b[0m                  \u001b[0;34m'(404-555-1212'\u001b[0m\u001b[0;34m\u001b[0m\u001b[0m\n\u001b[1;32m      6\u001b[0m                 ]\n\u001b[0;32m----> 7\u001b[0;31m \u001b[0mpass_phone2\u001b[0m\u001b[0;34m(\u001b[0m\u001b[0;34m\"  (404)   555-1212  \"\u001b[0m\u001b[0;34m,\u001b[0m \u001b[0;34m'404'\u001b[0m\u001b[0;34m,\u001b[0m \u001b[0;34m'555'\u001b[0m\u001b[0;34m,\u001b[0m \u001b[0;34m'1212'\u001b[0m\u001b[0;34m)\u001b[0m\u001b[0;34m\u001b[0m\u001b[0m\n\u001b[0m\u001b[1;32m      8\u001b[0m \u001b[0mpass_phone2\u001b[0m\u001b[0;34m(\u001b[0m\u001b[0;34m\"(404)555-1212  \"\u001b[0m\u001b[0;34m,\u001b[0m \u001b[0;34m'404'\u001b[0m\u001b[0;34m,\u001b[0m \u001b[0;34m'555'\u001b[0m\u001b[0;34m,\u001b[0m \u001b[0;34m'1212'\u001b[0m\u001b[0;34m)\u001b[0m\u001b[0;34m\u001b[0m\u001b[0m\n\u001b[1;32m      9\u001b[0m \u001b[0mpass_phone2\u001b[0m\u001b[0;34m(\u001b[0m\u001b[0;34m\"  404-555-1212 \"\u001b[0m\u001b[0;34m,\u001b[0m \u001b[0;34m'404'\u001b[0m\u001b[0;34m,\u001b[0m \u001b[0;34m'555'\u001b[0m\u001b[0;34m,\u001b[0m \u001b[0;34m'1212'\u001b[0m\u001b[0;34m)\u001b[0m\u001b[0;34m\u001b[0m\u001b[0m\n",
      "\u001b[0;31mNameError\u001b[0m: name 'pass_phone2' is not defined"
     ]
    }
   ],
   "source": [
    "failure_cases = ['+1 (404) 555-3355',\n",
    "                 '404.555.3355',\n",
    "                 '404 555-3355',\n",
    "                 '404 555 3355',\n",
    "                 '(404-555-1212'\n",
    "                ]\n",
    "pass_phone2(\"  (404)   555-1212  \", '404', '555', '1212')\n",
    "pass_phone2(\"(404)555-1212  \", '404', '555', '1212')\n",
    "pass_phone2(\"  404-555-1212 \", '404', '555', '1212')\n",
    "pass_phone2(\"  404-5551212 \", '404', '555', '1212')\n",
    "pass_phone2(\" 4045551212\", '404', '555', '1212')"
   ]
  },
  {
   "cell_type": "code",
   "execution_count": 49,
   "metadata": {},
   "outputs": [
    {
     "name": "stdout",
     "output_type": "stream",
     "text": [
      "ValueError\n"
     ]
    }
   ],
   "source": [
    "s = '404 555 3355'\n",
    "s = s.strip()\n",
    "#s = s.lstrip()\n",
    "#s = s.rstrip()\n",
    "\n",
    "if s[0] == '+':\n",
    "    print('ValueError')\n",
    "elif s[-5] == '-' and s[3] == ' ':\n",
    "    raise ValueError\n",
    "elif s[0] == '(':\n",
    "#    s = s.replace(' ','')\n",
    "    phone2Regex = re.compile('\\s*\\((?P<area>\\d{3})\\)\\s*?(?P<pref>\\d{3})\\-?(?P<line>\\d{4})') #parenth number\n",
    "    mo = phone2Regex.match(s)\n",
    "    try:\n",
    "        print(mo.groups())\n",
    "    except AttributeError:\n",
    "        print('ValueError')\n",
    "\n",
    "\n",
    "#    print(mo.groups())\n",
    "elif s[0] != '(':\n",
    "#    s = s.replace(' ','')\n",
    "    phone2Regex = re.compile('\\s*(?P<area1>\\d{3})\\s*\\-?(?P<pref1>\\d{3})\\-?(?P<line1>\\d{4})') #dash number\n",
    "    mo = (phone2Regex.match(s))\n",
    "    try:\n",
    "        print(mo.groups())\n",
    "    except AttributeError:\n",
    "        print('ValueError')\n",
    "    #print(mo.groups())\n",
    "elif s[0] == '+':\n",
    "    print('ValueError')"
   ]
  },
  {
   "cell_type": "code",
   "execution_count": 50,
   "metadata": {
    "collapsed": true
   },
   "outputs": [],
   "source": [
    "#phone2Regex = re.compile('\\s*(?P<area1>\\d{3})\\s*\\-?(?P<pref1>\\d{3})\\-?(?P<line1>\\d{4})') #dash number\n",
    "#mo = (phone2Regex.match('404-555-1212'))\n",
    "#print(mo.groups())"
   ]
  },
  {
   "cell_type": "code",
   "execution_count": 51,
   "metadata": {
    "collapsed": true
   },
   "outputs": [],
   "source": [
    "#phone2Regex = re.compile('\\s*\\((?P<area>\\d{3})\\)\\s?(?P<pref>\\d{3})\\-?(?P<line>\\d{4})') #parenth number\n",
    "#mo = phone2Regex.match('(404)555-1212')\n",
    "#print(mo.groups())"
   ]
  },
  {
   "cell_type": "code",
   "execution_count": 52,
   "metadata": {
    "collapsed": true
   },
   "outputs": [],
   "source": [
    "################"
   ]
  },
  {
   "cell_type": "code",
   "execution_count": 53,
   "metadata": {
    "deletable": false,
    "editable": false,
    "nbgrader": {
     "grade": true,
     "grade_id": "parse_phone2_test",
     "locked": true,
     "points": 3,
     "schema_version": 1,
     "solution": false
    }
   },
   "outputs": [
    {
     "name": "stdout",
     "output_type": "stream",
     "text": [
      "Should pass: '  (404)   555-1212  '\n",
      "Should pass: '(404)555-1212  '\n",
      "Should pass: '  404-555-1212 '\n",
      "Should pass: '  404-5551212 '\n",
      "Should pass: ' 4045551212'\n",
      "Should pass: '989-106-8950'\n",
      "Should pass: '   (750)389-8778    '\n",
      "Should pass: '     592-2794840    '\n",
      "Should pass: '   950-983-6806  '\n",
      "Should pass: '  9530188044     '\n",
      "Should fail: '+1 (404) 555-3355'\n",
      "==> Function correctly raised an exception.\n",
      "Should fail: '404.555.3355'\n",
      "==> Function correctly raised an exception.\n",
      "Should fail: '404 555-3355'\n",
      "==> Function correctly raised an exception.\n",
      "Should fail: '404 555 3355'\n",
      "==> Function correctly raised an exception.\n",
      "Should fail: '(404-555-1212'\n",
      "==> Function correctly raised an exception.\n",
      "\n",
      "(Passed!)\n"
     ]
    }
   ],
   "source": [
    "# Test cell: `parse_phone2_test`\n",
    "\n",
    "def asm_phone2(a, l, r):\n",
    "    from random import random\n",
    "    x = random()\n",
    "    if x < 0.33:\n",
    "        a2 = '(' + a + ')' + rand_spaces()\n",
    "    elif x < 0.67:\n",
    "        a2 = a + '-'\n",
    "    else:\n",
    "        a2 = a\n",
    "    y = random()\n",
    "    if y < 0.5:\n",
    "        l2 = l + '-'\n",
    "    else:\n",
    "        l2 = l\n",
    "    return rand_spaces() + a2 + l2 + r + rand_spaces()\n",
    "\n",
    "def pass_phone2(p=None, a=None, l=None, r=None):\n",
    "    if p is None:\n",
    "        a = gen_digits(3)\n",
    "        l = gen_digits(3)\n",
    "        r = gen_digits(4)\n",
    "        p = asm_phone2(a, l, r)\n",
    "    else:\n",
    "        assert a is not None and l is not None and r is not None, \"Need to supply sample solution.\"\n",
    "    msg = \"Should pass: '{}'\".format(p)\n",
    "    print(msg)\n",
    "    p_you = parse_phone2(p)\n",
    "    assert p_you == (a, l, r), \"Got {} instead of ('{}', '{}', '{}')\".format(p_you, a, l, r)\n",
    "    \n",
    "pass_phone2(\"  (404)   555-1212  \", '404', '555', '1212')\n",
    "pass_phone2(\"(404)555-1212  \", '404', '555', '1212')\n",
    "pass_phone2(\"  404-555-1212 \", '404', '555', '1212')\n",
    "pass_phone2(\"  404-5551212 \", '404', '555', '1212')\n",
    "pass_phone2(\" 4045551212\", '404', '555', '1212')\n",
    "    \n",
    "for _ in range(5):\n",
    "    pass_phone2()\n",
    "    \n",
    "    \n",
    "def fail_phone2(s):\n",
    "    msg = \"Should fail: '{}'\".format(s)\n",
    "    print(msg)\n",
    "    try:\n",
    "        parse_phone2 (s)\n",
    "    except ValueError:\n",
    "        print (\"==> Function correctly raised an exception.\")\n",
    "    else:\n",
    "        raise AssertionError (\"Function did *not* raise an exception as expected!\")\n",
    "        \n",
    "failure_cases = ['+1 (404) 555-3355',\n",
    "                 '404.555.3355',\n",
    "                 '404 555-3355',\n",
    "                 '404 555 3355',\n",
    "                 '(404-555-1212'\n",
    "                ]\n",
    "for s in failure_cases:\n",
    "    fail_phone2(s)\n",
    "    \n",
    "print(\"\\n(Passed!)\")"
   ]
  },
  {
   "cell_type": "markdown",
   "metadata": {
    "collapsed": true,
    "deletable": false,
    "editable": false,
    "nbgrader": {
     "grade": false,
     "grade_id": "cell-4e60d75d4b47de9c",
     "locked": true,
     "schema_version": 1,
     "solution": false
    }
   },
   "source": [
    "**Fin!** This cell marks the end of Part 0. Don't forget to save, restart and rerun all cells, and submit it. When you are done, proceed to Parts 1 and 2."
   ]
  }
 ],
 "metadata": {
  "celltoolbar": "Create Assignment",
  "kernelspec": {
   "display_name": "Python 3 [3.6]",
   "language": "python",
   "name": "python3"
  },
  "language_info": {
   "codemirror_mode": {
    "name": "ipython",
    "version": 3
   },
   "file_extension": ".py",
   "mimetype": "text/x-python",
   "name": "python",
   "nbconvert_exporter": "python",
   "pygments_lexer": "ipython3",
   "version": "3.6.4"
  }
 },
 "nbformat": 4,
 "nbformat_minor": 1
}
